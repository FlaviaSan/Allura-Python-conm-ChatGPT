{
  "nbformat": 4,
  "nbformat_minor": 0,
  "metadata": {
    "colab": {
      "provenance": [],
      "authorship_tag": "ABX9TyMQ9GL6EjgziBzHrpKc9560",
      "include_colab_link": true
    },
    "kernelspec": {
      "name": "python3",
      "display_name": "Python 3"
    },
    "language_info": {
      "name": "python"
    }
  },
  "cells": [
    {
      "cell_type": "markdown",
      "metadata": {
        "id": "view-in-github",
        "colab_type": "text"
      },
      "source": [
        "<a href=\"https://colab.research.google.com/github/FlaviaSan/Allura-Python-conm-ChatGPT/blob/main/Flavia_Gomes.ipynb\" target=\"_parent\"><img src=\"https://colab.research.google.com/assets/colab-badge.svg\" alt=\"Open In Colab\"/></a>"
      ]
    },
    {
      "cell_type": "code",
      "source": [
        "!pip install qrcode\n",
        "!pip install qrcode[pil]"
      ],
      "metadata": {
        "colab": {
          "base_uri": "https://localhost:8080/"
        },
        "id": "FEK2qcL6a1Ad",
        "outputId": "c8e160aa-a384-4cc1-9a70-f75f72cabefb"
      },
      "execution_count": 3,
      "outputs": [
        {
          "output_type": "stream",
          "name": "stdout",
          "text": [
            "Requirement already satisfied: qrcode in /usr/local/lib/python3.10/dist-packages (8.0)\n",
            "Requirement already satisfied: qrcode[pil] in /usr/local/lib/python3.10/dist-packages (8.0)\n",
            "Requirement already satisfied: pillow>=9.1.0 in /usr/local/lib/python3.10/dist-packages (from qrcode[pil]) (11.0.0)\n"
          ]
        }
      ]
    },
    {
      "cell_type": "code",
      "execution_count": 7,
      "metadata": {
        "colab": {
          "base_uri": "https://localhost:8080/"
        },
        "id": "KiT9xcXFZpdx",
        "outputId": "e0395774-852b-4143-b92d-6ad2680254e8"
      },
      "outputs": [
        {
          "output_type": "stream",
          "name": "stdout",
          "text": [
            "QR Code do currículo salvo como curriculo_qr_code.png\n"
          ]
        }
      ],
      "source": [
        "import qrcode\n",
        "\n",
        "def criar_qr_code_curriculo(texto, nome_arquivo):\n",
        "    \"\"\"\n",
        "    Gera um QR Code com o texto do currículo e salva como imagem.\n",
        "\n",
        "    Args:\n",
        "        texto (str): https://lattes.cnpq.br/0341628725913487.\n",
        "        nome_arquivo (str): Flavia_Gomes (com extensão .png).\n",
        "    \"\"\"\n",
        "    # Criar o QR Code\n",
        "    qr = qrcode.QRCode(\n",
        "        version=1,  # Tamanho do QR Code (1 é o menor, até 40 para maior capacidade)\n",
        "        error_correction=qrcode.constants.ERROR_CORRECT_H,  # Nível de correção de erro\n",
        "        box_size=10,  # Tamanho de cada quadrado do QR Code\n",
        "        border=4,  # Tamanho da borda (mínimo é 4)\n",
        "    )\n",
        "    qr.add_data(curriculo_texto)  # Adicionar o texto ou link\n",
        "    qr.make(fit=True)\n",
        "\n",
        "    # Criar a imagem do QR Code\n",
        "    img = qr.make_image(fill_color=\"black\", back_color=\"white\")\n",
        "\n",
        "    # Salvar a imagem\n",
        "    img.save(nome_arquivo)\n",
        "    print(f\"QR Code do currículo salvo como {nome_arquivo}\")\n",
        "\n",
        "\n",
        "# Conteúdo do currículo (resumo ou link para PDF)\n",
        "curriculo_texto = \"\"\"\n",
        "Flavia Luzia dos Santos Gomes de Souza\n",
        "Bancária |Conteudista|Em breve,  Cientista de Dados\n",
        "--------------------------------------------------\n",
        "EXPERIÊNCIA:\n",
        "- Bancária - Banco do Brasil (2022 - )\n",
        "- Professora - SENAI MS (2021-2022)\n",
        "- Conteudista - UNICESUMAR (2022)\n",
        "\n",
        "HABILIDADES:\n",
        "- Python, Pandas, Estatística, Administração Financeira, Pesquisa Operacional\n",
        "\n",
        "EDUCAÇÃO:\n",
        "- Graduação em Ciência da Computação - UNIVESP (2024 - )\n",
        "- Mestre em Administração  - UFSC (2003-2005)\n",
        "- Graduação em Administração - UFMS (1995-1999)\n",
        "\n",
        "Detalhamento Profissional:\n",
        "https://lattes.cnpq.br/0341628725913487\n",
        "\"\"\"\n",
        "\n",
        "# Nome do arquivo de saída\n",
        "nome_arquivo_qr = \"curriculo_qr_code.png\"\n",
        "\n",
        "# Gerar o QR Code\n",
        "criar_qr_code_curriculo(curriculo_texto, nome_arquivo_qr)\n"
      ]
    }
  ]
}