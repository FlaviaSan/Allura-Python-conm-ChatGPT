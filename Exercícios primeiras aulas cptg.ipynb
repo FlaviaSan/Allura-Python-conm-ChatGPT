{
 "cells": [
  {
   "cell_type": "code",
   "execution_count": 1,
   "id": "d6f3e5f8-6686-40af-9fdc-09ab7e04df5d",
   "metadata": {
    "tags": []
   },
   "outputs": [
    {
     "name": "stdout",
     "output_type": "stream",
     "text": [
      "Defaulting to user installation because normal site-packages is not writeableNote: you may need to restart the kernel to use updated packages.\n",
      "\n",
      "Requirement already satisfied: numpy in c:\\programdata\\anaconda3\\lib\\site-packages (1.24.3)\n",
      "Requirement already satisfied: pandas in c:\\programdata\\anaconda3\\lib\\site-packages (1.5.3)\n",
      "Requirement already satisfied: python-dateutil>=2.8.1 in c:\\programdata\\anaconda3\\lib\\site-packages (from pandas) (2.8.2)\n",
      "Requirement already satisfied: pytz>=2020.1 in c:\\programdata\\anaconda3\\lib\\site-packages (from pandas) (2022.7)\n",
      "Requirement already satisfied: six>=1.5 in c:\\programdata\\anaconda3\\lib\\site-packages (from python-dateutil>=2.8.1->pandas) (1.16.0)\n"
     ]
    }
   ],
   "source": [
    "pip install numpy pandas\n"
   ]
  },
  {
   "cell_type": "code",
   "execution_count": 5,
   "id": "d84ec560-f543-4814-a922-f31c7fe48c62",
   "metadata": {
    "tags": []
   },
   "outputs": [],
   "source": [
    "import numpy as np\n",
    "import pandas as pd\n"
   ]
  },
  {
   "cell_type": "code",
   "execution_count": 8,
   "id": "f46e1e52-1376-4ee3-b0e7-fefdb2d34599",
   "metadata": {
    "tags": []
   },
   "outputs": [
    {
     "data": {
      "text/html": [
       "<div>\n",
       "<style scoped>\n",
       "    .dataframe tbody tr th:only-of-type {\n",
       "        vertical-align: middle;\n",
       "    }\n",
       "\n",
       "    .dataframe tbody tr th {\n",
       "        vertical-align: top;\n",
       "    }\n",
       "\n",
       "    .dataframe thead th {\n",
       "        text-align: right;\n",
       "    }\n",
       "</style>\n",
       "<table border=\"1\" class=\"dataframe\">\n",
       "  <thead>\n",
       "    <tr style=\"text-align: right;\">\n",
       "      <th></th>\n",
       "      <th>item_identificador</th>\n",
       "      <th>loja_identificador</th>\n",
       "      <th>vendas_totais</th>\n",
       "      <th>item</th>\n",
       "      <th>loja</th>\n",
       "    </tr>\n",
       "  </thead>\n",
       "  <tbody>\n",
       "    <tr>\n",
       "      <th>0</th>\n",
       "      <td>FDB08</td>\n",
       "      <td>OUT018</td>\n",
       "      <td>176503.58</td>\n",
       "      <td>{'item_peso': 6.055, 'item_conteudo_gordura': ...</td>\n",
       "      <td>{'loja_ano_estabelecimento': 2019, 'loja_taman...</td>\n",
       "    </tr>\n",
       "    <tr>\n",
       "      <th>1</th>\n",
       "      <td>DRQ35</td>\n",
       "      <td>OUT049</td>\n",
       "      <td>185758.20</td>\n",
       "      <td>{'item_peso': 9.3, 'item_conteudo_gordura': 'B...</td>\n",
       "      <td>{'loja_ano_estabelecimento': 2009, 'loja_taman...</td>\n",
       "    </tr>\n",
       "    <tr>\n",
       "      <th>2</th>\n",
       "      <td>FDD14</td>\n",
       "      <td>OUT018</td>\n",
       "      <td>165983.94</td>\n",
       "      <td>{'item_peso': 20.7, 'item_conteudo_gordura': '...</td>\n",
       "      <td>{'loja_ano_estabelecimento': 2019, 'loja_taman...</td>\n",
       "    </tr>\n",
       "    <tr>\n",
       "      <th>3</th>\n",
       "      <td>FDY37</td>\n",
       "      <td>OUT045</td>\n",
       "      <td>314923.40</td>\n",
       "      <td>{'item_peso': 17.0, 'item_conteudo_gordura': '...</td>\n",
       "      <td>{'loja_ano_estabelecimento': 2012, 'loja_taman...</td>\n",
       "    </tr>\n",
       "    <tr>\n",
       "      <th>4</th>\n",
       "      <td>FDY59</td>\n",
       "      <td>OUT018</td>\n",
       "      <td>64782.34</td>\n",
       "      <td>{'item_peso': 8.195, 'item_conteudo_gordura': ...</td>\n",
       "      <td>{'loja_ano_estabelecimento': 2019, 'loja_taman...</td>\n",
       "    </tr>\n",
       "  </tbody>\n",
       "</table>\n",
       "</div>"
      ],
      "text/plain": [
       "  item_identificador loja_identificador  vendas_totais  \\\n",
       "0              FDB08             OUT018      176503.58   \n",
       "1              DRQ35             OUT049      185758.20   \n",
       "2              FDD14             OUT018      165983.94   \n",
       "3              FDY37             OUT045      314923.40   \n",
       "4              FDY59             OUT018       64782.34   \n",
       "\n",
       "                                                item  \\\n",
       "0  {'item_peso': 6.055, 'item_conteudo_gordura': ...   \n",
       "1  {'item_peso': 9.3, 'item_conteudo_gordura': 'B...   \n",
       "2  {'item_peso': 20.7, 'item_conteudo_gordura': '...   \n",
       "3  {'item_peso': 17.0, 'item_conteudo_gordura': '...   \n",
       "4  {'item_peso': 8.195, 'item_conteudo_gordura': ...   \n",
       "\n",
       "                                                loja  \n",
       "0  {'loja_ano_estabelecimento': 2019, 'loja_taman...  \n",
       "1  {'loja_ano_estabelecimento': 2009, 'loja_taman...  \n",
       "2  {'loja_ano_estabelecimento': 2019, 'loja_taman...  \n",
       "3  {'loja_ano_estabelecimento': 2012, 'loja_taman...  \n",
       "4  {'loja_ano_estabelecimento': 2019, 'loja_taman...  "
      ]
     },
     "execution_count": 8,
     "metadata": {},
     "output_type": "execute_result"
    }
   ],
   "source": [
    "df = pd.read_json('https://github.com/alura-cursos/python-analise-chatgpt-assistente/raw/main/Dados/dados_vendas.json')\n",
    "df.head()"
   ]
  },
  {
   "cell_type": "code",
   "execution_count": 9,
   "id": "65cb198a-207e-4337-b911-6fa40b046803",
   "metadata": {
    "tags": []
   },
   "outputs": [],
   "source": [
    "from pandas import json_normalize"
   ]
  },
  {
   "cell_type": "code",
   "execution_count": 10,
   "id": "b4738372-7121-4f0d-98d8-c73c2c53c6b6",
   "metadata": {
    "tags": []
   },
   "outputs": [],
   "source": [
    "df_item_normalized = json_normalize(df['item'])"
   ]
  },
  {
   "cell_type": "code",
   "execution_count": 11,
   "id": "880ace5a-5eed-44ec-9e56-e2354f9f5658",
   "metadata": {
    "tags": []
   },
   "outputs": [],
   "source": [
    "df_loja_normalized = json_normalize(df['loja'])"
   ]
  },
  {
   "cell_type": "code",
   "execution_count": 12,
   "id": "4bb38edb-95ff-4c98-b9eb-a7f51ee38d83",
   "metadata": {
    "tags": []
   },
   "outputs": [],
   "source": [
    "df = pd.concat([df, df_item_normalized, df_loja_normalized], axis=1)"
   ]
  },
  {
   "cell_type": "code",
   "execution_count": 13,
   "id": "64bbc69c-8091-4d61-ab5e-d5dd9e0a2f9e",
   "metadata": {
    "tags": []
   },
   "outputs": [
    {
     "data": {
      "text/html": [
       "<div>\n",
       "<style scoped>\n",
       "    .dataframe tbody tr th:only-of-type {\n",
       "        vertical-align: middle;\n",
       "    }\n",
       "\n",
       "    .dataframe tbody tr th {\n",
       "        vertical-align: top;\n",
       "    }\n",
       "\n",
       "    .dataframe thead th {\n",
       "        text-align: right;\n",
       "    }\n",
       "</style>\n",
       "<table border=\"1\" class=\"dataframe\">\n",
       "  <thead>\n",
       "    <tr style=\"text-align: right;\">\n",
       "      <th></th>\n",
       "      <th>item_identificador</th>\n",
       "      <th>loja_identificador</th>\n",
       "      <th>vendas_totais</th>\n",
       "      <th>item_peso</th>\n",
       "      <th>item_conteudo_gordura</th>\n",
       "      <th>item_visibilidade</th>\n",
       "      <th>item_tipo</th>\n",
       "      <th>item_preco</th>\n",
       "      <th>item_quantidade_venda</th>\n",
       "      <th>loja_ano_estabelecimento</th>\n",
       "      <th>loja_tamanho</th>\n",
       "      <th>loja_tipo_localizacao</th>\n",
       "      <th>loja_tipo</th>\n",
       "    </tr>\n",
       "  </thead>\n",
       "  <tbody>\n",
       "    <tr>\n",
       "      <th>0</th>\n",
       "      <td>FDB08</td>\n",
       "      <td>OUT018</td>\n",
       "      <td>176503.58</td>\n",
       "      <td>6.055</td>\n",
       "      <td>Baixo Teor de Gordura</td>\n",
       "      <td>0.031230</td>\n",
       "      <td>Frutas e Vegetais</td>\n",
       "      <td>160.36</td>\n",
       "      <td>None</td>\n",
       "      <td>2019</td>\n",
       "      <td>Médio</td>\n",
       "      <td>Nível 3</td>\n",
       "      <td>Supermercado Tipo 2</td>\n",
       "    </tr>\n",
       "    <tr>\n",
       "      <th>1</th>\n",
       "      <td>DRQ35</td>\n",
       "      <td>OUT049</td>\n",
       "      <td>185758.20</td>\n",
       "      <td>9.300</td>\n",
       "      <td>Baixo Teor de Gordura</td>\n",
       "      <td>0.042357</td>\n",
       "      <td>Bebidas Alcoólicas</td>\n",
       "      <td>123.24</td>\n",
       "      <td>None</td>\n",
       "      <td>2009</td>\n",
       "      <td>Médio</td>\n",
       "      <td>Nível 1</td>\n",
       "      <td>Supermercado Tipo 1</td>\n",
       "    </tr>\n",
       "    <tr>\n",
       "      <th>2</th>\n",
       "      <td>FDD14</td>\n",
       "      <td>OUT018</td>\n",
       "      <td>165983.94</td>\n",
       "      <td>20.700</td>\n",
       "      <td>Baixo Teor de Gordura</td>\n",
       "      <td>0.170500</td>\n",
       "      <td>Enlatados</td>\n",
       "      <td>184.13</td>\n",
       "      <td>None</td>\n",
       "      <td>2019</td>\n",
       "      <td>Médio</td>\n",
       "      <td>Nível 3</td>\n",
       "      <td>Supermercado Tipo 2</td>\n",
       "    </tr>\n",
       "    <tr>\n",
       "      <th>3</th>\n",
       "      <td>FDY37</td>\n",
       "      <td>OUT045</td>\n",
       "      <td>314923.40</td>\n",
       "      <td>17.000</td>\n",
       "      <td>Regular</td>\n",
       "      <td>0.026623</td>\n",
       "      <td>Enlatados</td>\n",
       "      <td>144.25</td>\n",
       "      <td>None</td>\n",
       "      <td>2012</td>\n",
       "      <td>None</td>\n",
       "      <td>Nível 2</td>\n",
       "      <td>Supermercado Tipo 1</td>\n",
       "    </tr>\n",
       "    <tr>\n",
       "      <th>4</th>\n",
       "      <td>FDY59</td>\n",
       "      <td>OUT018</td>\n",
       "      <td>64782.34</td>\n",
       "      <td>8.195</td>\n",
       "      <td>Baixo Teor de Gordura</td>\n",
       "      <td>0.000000</td>\n",
       "      <td>Confeitaria</td>\n",
       "      <td>93.15</td>\n",
       "      <td>None</td>\n",
       "      <td>2019</td>\n",
       "      <td>Médio</td>\n",
       "      <td>Nível 3</td>\n",
       "      <td>Supermercado Tipo 2</td>\n",
       "    </tr>\n",
       "    <tr>\n",
       "      <th>...</th>\n",
       "      <td>...</td>\n",
       "      <td>...</td>\n",
       "      <td>...</td>\n",
       "      <td>...</td>\n",
       "      <td>...</td>\n",
       "      <td>...</td>\n",
       "      <td>...</td>\n",
       "      <td>...</td>\n",
       "      <td>...</td>\n",
       "      <td>...</td>\n",
       "      <td>...</td>\n",
       "      <td>...</td>\n",
       "      <td>...</td>\n",
       "    </tr>\n",
       "    <tr>\n",
       "      <th>8545</th>\n",
       "      <td>FDY08</td>\n",
       "      <td>OUT010</td>\n",
       "      <td>28096.76</td>\n",
       "      <td>9.395</td>\n",
       "      <td>Regular</td>\n",
       "      <td>0.286345</td>\n",
       "      <td>Frutas e Vegetais</td>\n",
       "      <td>139.18</td>\n",
       "      <td>None</td>\n",
       "      <td>2008</td>\n",
       "      <td>None</td>\n",
       "      <td>Nível 3</td>\n",
       "      <td>Mercado</td>\n",
       "    </tr>\n",
       "    <tr>\n",
       "      <th>8546</th>\n",
       "      <td>FDC41</td>\n",
       "      <td>OUT017</td>\n",
       "      <td>130163.90</td>\n",
       "      <td>15.600</td>\n",
       "      <td>Baixo Teor de Gordura</td>\n",
       "      <td>0.117575</td>\n",
       "      <td>Alimentos Congelados</td>\n",
       "      <td>75.67</td>\n",
       "      <td>None</td>\n",
       "      <td>2017</td>\n",
       "      <td>None</td>\n",
       "      <td>Nível 2</td>\n",
       "      <td>Supermercado Tipo 1</td>\n",
       "    </tr>\n",
       "    <tr>\n",
       "      <th>8547</th>\n",
       "      <td>NCQ53</td>\n",
       "      <td>OUT045</td>\n",
       "      <td>614533.40</td>\n",
       "      <td>17.600</td>\n",
       "      <td>Baixo Teor de Gordura</td>\n",
       "      <td>0.018944</td>\n",
       "      <td>Mercearia</td>\n",
       "      <td>237.36</td>\n",
       "      <td>None</td>\n",
       "      <td>2012</td>\n",
       "      <td>None</td>\n",
       "      <td>Nível 2</td>\n",
       "      <td>Supermercado Tipo 1</td>\n",
       "    </tr>\n",
       "    <tr>\n",
       "      <th>8548</th>\n",
       "      <td>FDL46</td>\n",
       "      <td>OUT017</td>\n",
       "      <td>164985.24</td>\n",
       "      <td>20.350</td>\n",
       "      <td>baixo teor de gordura</td>\n",
       "      <td>0.054363</td>\n",
       "      <td>Lanches</td>\n",
       "      <td>117.95</td>\n",
       "      <td>None</td>\n",
       "      <td>2017</td>\n",
       "      <td>None</td>\n",
       "      <td>Nível 2</td>\n",
       "      <td>Supermercado Tipo 1</td>\n",
       "    </tr>\n",
       "    <tr>\n",
       "      <th>8549</th>\n",
       "      <td>NCN30</td>\n",
       "      <td>OUT046</td>\n",
       "      <td>96541.00</td>\n",
       "      <td>16.350</td>\n",
       "      <td>BTG</td>\n",
       "      <td>0.016993</td>\n",
       "      <td>Cereais</td>\n",
       "      <td>95.74</td>\n",
       "      <td>None</td>\n",
       "      <td>2007</td>\n",
       "      <td>Pequeno</td>\n",
       "      <td>Nível 1</td>\n",
       "      <td>Supermercado Tipo 1</td>\n",
       "    </tr>\n",
       "  </tbody>\n",
       "</table>\n",
       "<p>8550 rows × 13 columns</p>\n",
       "</div>"
      ],
      "text/plain": [
       "     item_identificador loja_identificador  vendas_totais  item_peso  \\\n",
       "0                 FDB08             OUT018      176503.58      6.055   \n",
       "1                 DRQ35             OUT049      185758.20      9.300   \n",
       "2                 FDD14             OUT018      165983.94     20.700   \n",
       "3                 FDY37             OUT045      314923.40     17.000   \n",
       "4                 FDY59             OUT018       64782.34      8.195   \n",
       "...                 ...                ...            ...        ...   \n",
       "8545              FDY08             OUT010       28096.76      9.395   \n",
       "8546              FDC41             OUT017      130163.90     15.600   \n",
       "8547              NCQ53             OUT045      614533.40     17.600   \n",
       "8548              FDL46             OUT017      164985.24     20.350   \n",
       "8549              NCN30             OUT046       96541.00     16.350   \n",
       "\n",
       "      item_conteudo_gordura  item_visibilidade             item_tipo  \\\n",
       "0     Baixo Teor de Gordura           0.031230     Frutas e Vegetais   \n",
       "1     Baixo Teor de Gordura           0.042357    Bebidas Alcoólicas   \n",
       "2     Baixo Teor de Gordura           0.170500             Enlatados   \n",
       "3                   Regular           0.026623             Enlatados   \n",
       "4     Baixo Teor de Gordura           0.000000           Confeitaria   \n",
       "...                     ...                ...                   ...   \n",
       "8545                Regular           0.286345     Frutas e Vegetais   \n",
       "8546  Baixo Teor de Gordura           0.117575  Alimentos Congelados   \n",
       "8547  Baixo Teor de Gordura           0.018944             Mercearia   \n",
       "8548  baixo teor de gordura           0.054363               Lanches   \n",
       "8549                    BTG           0.016993               Cereais   \n",
       "\n",
       "      item_preco item_quantidade_venda  loja_ano_estabelecimento loja_tamanho  \\\n",
       "0         160.36                  None                      2019        Médio   \n",
       "1         123.24                  None                      2009        Médio   \n",
       "2         184.13                  None                      2019        Médio   \n",
       "3         144.25                  None                      2012         None   \n",
       "4          93.15                  None                      2019        Médio   \n",
       "...          ...                   ...                       ...          ...   \n",
       "8545      139.18                  None                      2008         None   \n",
       "8546       75.67                  None                      2017         None   \n",
       "8547      237.36                  None                      2012         None   \n",
       "8548      117.95                  None                      2017         None   \n",
       "8549       95.74                  None                      2007      Pequeno   \n",
       "\n",
       "     loja_tipo_localizacao            loja_tipo  \n",
       "0                  Nível 3  Supermercado Tipo 2  \n",
       "1                  Nível 1  Supermercado Tipo 1  \n",
       "2                  Nível 3  Supermercado Tipo 2  \n",
       "3                  Nível 2  Supermercado Tipo 1  \n",
       "4                  Nível 3  Supermercado Tipo 2  \n",
       "...                    ...                  ...  \n",
       "8545               Nível 3              Mercado  \n",
       "8546               Nível 2  Supermercado Tipo 1  \n",
       "8547               Nível 2  Supermercado Tipo 1  \n",
       "8548               Nível 2  Supermercado Tipo 1  \n",
       "8549               Nível 1  Supermercado Tipo 1  \n",
       "\n",
       "[8550 rows x 13 columns]"
      ]
     },
     "execution_count": 13,
     "metadata": {},
     "output_type": "execute_result"
    }
   ],
   "source": [
    "df.drop(['item', 'loja'], axis=1, inplace=True)\n",
    "df"
   ]
  },
  {
   "cell_type": "code",
   "execution_count": 15,
   "id": "2c8b4476-653b-4c0a-9c5a-1dfa88507973",
   "metadata": {
    "tags": []
   },
   "outputs": [
    {
     "data": {
      "text/html": [
       "<div>\n",
       "<style scoped>\n",
       "    .dataframe tbody tr th:only-of-type {\n",
       "        vertical-align: middle;\n",
       "    }\n",
       "\n",
       "    .dataframe tbody tr th {\n",
       "        vertical-align: top;\n",
       "    }\n",
       "\n",
       "    .dataframe thead th {\n",
       "        text-align: right;\n",
       "    }\n",
       "</style>\n",
       "<table border=\"1\" class=\"dataframe\">\n",
       "  <thead>\n",
       "    <tr style=\"text-align: right;\">\n",
       "      <th></th>\n",
       "      <th>item_identificador</th>\n",
       "      <th>loja_identificador</th>\n",
       "      <th>vendas_totais</th>\n",
       "      <th>item_peso</th>\n",
       "      <th>item_conteudo_gordura</th>\n",
       "      <th>item_visibilidade</th>\n",
       "      <th>item_tipo</th>\n",
       "      <th>item_preco</th>\n",
       "      <th>item_quantidade_venda</th>\n",
       "      <th>loja_ano_estabelecimento</th>\n",
       "      <th>loja_tamanho</th>\n",
       "      <th>loja_tipo_localizacao</th>\n",
       "      <th>loja_tipo</th>\n",
       "    </tr>\n",
       "  </thead>\n",
       "  <tbody>\n",
       "    <tr>\n",
       "      <th>0</th>\n",
       "      <td>FDB08</td>\n",
       "      <td>OUT018</td>\n",
       "      <td>176503.58</td>\n",
       "      <td>6.055</td>\n",
       "      <td>Baixo Teor de Gordura</td>\n",
       "      <td>0.031230</td>\n",
       "      <td>Frutas e Vegetais</td>\n",
       "      <td>160.36</td>\n",
       "      <td>None</td>\n",
       "      <td>2019</td>\n",
       "      <td>Médio</td>\n",
       "      <td>Nível 3</td>\n",
       "      <td>Supermercado Tipo 2</td>\n",
       "    </tr>\n",
       "    <tr>\n",
       "      <th>1</th>\n",
       "      <td>DRQ35</td>\n",
       "      <td>OUT049</td>\n",
       "      <td>185758.20</td>\n",
       "      <td>9.300</td>\n",
       "      <td>Baixo Teor de Gordura</td>\n",
       "      <td>0.042357</td>\n",
       "      <td>Bebidas Alcoólicas</td>\n",
       "      <td>123.24</td>\n",
       "      <td>None</td>\n",
       "      <td>2009</td>\n",
       "      <td>Médio</td>\n",
       "      <td>Nível 1</td>\n",
       "      <td>Supermercado Tipo 1</td>\n",
       "    </tr>\n",
       "    <tr>\n",
       "      <th>2</th>\n",
       "      <td>FDD14</td>\n",
       "      <td>OUT018</td>\n",
       "      <td>165983.94</td>\n",
       "      <td>20.700</td>\n",
       "      <td>Baixo Teor de Gordura</td>\n",
       "      <td>0.170500</td>\n",
       "      <td>Enlatados</td>\n",
       "      <td>184.13</td>\n",
       "      <td>None</td>\n",
       "      <td>2019</td>\n",
       "      <td>Médio</td>\n",
       "      <td>Nível 3</td>\n",
       "      <td>Supermercado Tipo 2</td>\n",
       "    </tr>\n",
       "    <tr>\n",
       "      <th>3</th>\n",
       "      <td>FDY37</td>\n",
       "      <td>OUT045</td>\n",
       "      <td>314923.40</td>\n",
       "      <td>17.000</td>\n",
       "      <td>Regular</td>\n",
       "      <td>0.026623</td>\n",
       "      <td>Enlatados</td>\n",
       "      <td>144.25</td>\n",
       "      <td>None</td>\n",
       "      <td>2012</td>\n",
       "      <td>None</td>\n",
       "      <td>Nível 2</td>\n",
       "      <td>Supermercado Tipo 1</td>\n",
       "    </tr>\n",
       "    <tr>\n",
       "      <th>4</th>\n",
       "      <td>FDY59</td>\n",
       "      <td>OUT018</td>\n",
       "      <td>64782.34</td>\n",
       "      <td>8.195</td>\n",
       "      <td>Baixo Teor de Gordura</td>\n",
       "      <td>0.000000</td>\n",
       "      <td>Confeitaria</td>\n",
       "      <td>93.15</td>\n",
       "      <td>None</td>\n",
       "      <td>2019</td>\n",
       "      <td>Médio</td>\n",
       "      <td>Nível 3</td>\n",
       "      <td>Supermercado Tipo 2</td>\n",
       "    </tr>\n",
       "  </tbody>\n",
       "</table>\n",
       "</div>"
      ],
      "text/plain": [
       "  item_identificador loja_identificador  vendas_totais  item_peso  \\\n",
       "0              FDB08             OUT018      176503.58      6.055   \n",
       "1              DRQ35             OUT049      185758.20      9.300   \n",
       "2              FDD14             OUT018      165983.94     20.700   \n",
       "3              FDY37             OUT045      314923.40     17.000   \n",
       "4              FDY59             OUT018       64782.34      8.195   \n",
       "\n",
       "   item_conteudo_gordura  item_visibilidade           item_tipo  item_preco  \\\n",
       "0  Baixo Teor de Gordura           0.031230   Frutas e Vegetais      160.36   \n",
       "1  Baixo Teor de Gordura           0.042357  Bebidas Alcoólicas      123.24   \n",
       "2  Baixo Teor de Gordura           0.170500           Enlatados      184.13   \n",
       "3                Regular           0.026623           Enlatados      144.25   \n",
       "4  Baixo Teor de Gordura           0.000000         Confeitaria       93.15   \n",
       "\n",
       "  item_quantidade_venda  loja_ano_estabelecimento loja_tamanho  \\\n",
       "0                  None                      2019        Médio   \n",
       "1                  None                      2009        Médio   \n",
       "2                  None                      2019        Médio   \n",
       "3                  None                      2012         None   \n",
       "4                  None                      2019        Médio   \n",
       "\n",
       "  loja_tipo_localizacao            loja_tipo  \n",
       "0               Nível 3  Supermercado Tipo 2  \n",
       "1               Nível 1  Supermercado Tipo 1  \n",
       "2               Nível 3  Supermercado Tipo 2  \n",
       "3               Nível 2  Supermercado Tipo 1  \n",
       "4               Nível 3  Supermercado Tipo 2  "
      ]
     },
     "execution_count": 15,
     "metadata": {},
     "output_type": "execute_result"
    }
   ],
   "source": [
    "df.head()"
   ]
  },
  {
   "cell_type": "code",
   "execution_count": 17,
   "id": "ec3a2c04-7bd3-46a7-b3cf-7d92cebb6d21",
   "metadata": {
    "tags": []
   },
   "outputs": [
    {
     "name": "stdout",
     "output_type": "stream",
     "text": [
      "<class 'pandas.core.frame.DataFrame'>\n",
      "RangeIndex: 8550 entries, 0 to 8549\n",
      "Data columns (total 13 columns):\n",
      " #   Column                    Non-Null Count  Dtype  \n",
      "---  ------                    --------------  -----  \n",
      " 0   item_identificador        8550 non-null   object \n",
      " 1   loja_identificador        8550 non-null   object \n",
      " 2   vendas_totais             8550 non-null   float64\n",
      " 3   item_peso                 7081 non-null   float64\n",
      " 4   item_conteudo_gordura     8550 non-null   object \n",
      " 5   item_visibilidade         8550 non-null   float64\n",
      " 6   item_tipo                 8550 non-null   object \n",
      " 7   item_preco                8550 non-null   float64\n",
      " 8   item_quantidade_venda     0 non-null      object \n",
      " 9   loja_ano_estabelecimento  8550 non-null   int64  \n",
      " 10  loja_tamanho              6133 non-null   object \n",
      " 11  loja_tipo_localizacao     8550 non-null   object \n",
      " 12  loja_tipo                 8550 non-null   object \n",
      "dtypes: float64(4), int64(1), object(8)\n",
      "memory usage: 868.5+ KB\n"
     ]
    }
   ],
   "source": [
    "df.info()"
   ]
  },
  {
   "cell_type": "code",
   "execution_count": 18,
   "id": "a58cadf9-640f-4188-b80b-a0baed152a59",
   "metadata": {
    "tags": []
   },
   "outputs": [
    {
     "data": {
      "text/plain": [
       "item_identificador          1559\n",
       "loja_identificador            10\n",
       "vendas_totais               3493\n",
       "item_peso                    415\n",
       "item_conteudo_gordura          5\n",
       "item_visibilidade           7880\n",
       "item_tipo                     16\n",
       "item_preco                  4839\n",
       "item_quantidade_venda          0\n",
       "loja_ano_estabelecimento       9\n",
       "loja_tamanho                   3\n",
       "loja_tipo_localizacao          3\n",
       "loja_tipo                      4\n",
       "dtype: int64"
      ]
     },
     "execution_count": 18,
     "metadata": {},
     "output_type": "execute_result"
    }
   ],
   "source": [
    "df.nunique()"
   ]
  },
  {
   "cell_type": "code",
   "execution_count": 19,
   "id": "9bea3786-8b95-442b-80af-2b0318bab3de",
   "metadata": {
    "tags": []
   },
   "outputs": [
    {
     "data": {
      "text/plain": [
       "27"
      ]
     },
     "execution_count": 19,
     "metadata": {},
     "output_type": "execute_result"
    }
   ],
   "source": [
    "df.duplicated().sum()"
   ]
  },
  {
   "cell_type": "code",
   "execution_count": 20,
   "id": "84e06b4d-3160-46aa-a1ac-7ee9674952a9",
   "metadata": {
    "tags": []
   },
   "outputs": [
    {
     "data": {
      "text/plain": [
       "item_identificador             0\n",
       "loja_identificador             0\n",
       "vendas_totais                  0\n",
       "item_peso                   1469\n",
       "item_conteudo_gordura          0\n",
       "item_visibilidade              0\n",
       "item_tipo                      0\n",
       "item_preco                     0\n",
       "item_quantidade_venda       8550\n",
       "loja_ano_estabelecimento       0\n",
       "loja_tamanho                2417\n",
       "loja_tipo_localizacao          0\n",
       "loja_tipo                      0\n",
       "dtype: int64"
      ]
     },
     "execution_count": 20,
     "metadata": {},
     "output_type": "execute_result"
    }
   ],
   "source": [
    "df.isnull().sum()"
   ]
  },
  {
   "cell_type": "code",
   "execution_count": 21,
   "id": "b848c22f-052c-4b7f-8e98-435d318c6afc",
   "metadata": {
    "tags": []
   },
   "outputs": [
    {
     "data": {
      "text/plain": [
       "array(['Baixo Teor de Gordura', 'Regular', 'BTG', 'reg',\n",
       "       'baixo teor de gordura'], dtype=object)"
      ]
     },
     "execution_count": 21,
     "metadata": {},
     "output_type": "execute_result"
    }
   ],
   "source": [
    "df['item_conteudo_gordura'].unique()"
   ]
  },
  {
   "cell_type": "code",
   "execution_count": 22,
   "id": "3ca551ac-31f3-43b7-a797-ebc81399166d",
   "metadata": {
    "tags": []
   },
   "outputs": [
    {
     "data": {
      "text/html": [
       "<div>\n",
       "<style scoped>\n",
       "    .dataframe tbody tr th:only-of-type {\n",
       "        vertical-align: middle;\n",
       "    }\n",
       "\n",
       "    .dataframe tbody tr th {\n",
       "        vertical-align: top;\n",
       "    }\n",
       "\n",
       "    .dataframe thead th {\n",
       "        text-align: right;\n",
       "    }\n",
       "</style>\n",
       "<table border=\"1\" class=\"dataframe\">\n",
       "  <thead>\n",
       "    <tr style=\"text-align: right;\">\n",
       "      <th></th>\n",
       "      <th>item_identificador</th>\n",
       "      <th>loja_identificador</th>\n",
       "      <th>vendas_totais</th>\n",
       "      <th>item_peso</th>\n",
       "      <th>item_conteudo_gordura</th>\n",
       "      <th>item_visibilidade</th>\n",
       "      <th>item_tipo</th>\n",
       "      <th>item_preco</th>\n",
       "      <th>item_quantidade_venda</th>\n",
       "      <th>loja_ano_estabelecimento</th>\n",
       "      <th>loja_tamanho</th>\n",
       "      <th>loja_tipo_localizacao</th>\n",
       "      <th>loja_tipo</th>\n",
       "    </tr>\n",
       "  </thead>\n",
       "  <tbody>\n",
       "    <tr>\n",
       "      <th>0</th>\n",
       "      <td>FDB08</td>\n",
       "      <td>OUT018</td>\n",
       "      <td>176503.58</td>\n",
       "      <td>6.055</td>\n",
       "      <td>Baixo Teor de Gordura</td>\n",
       "      <td>0.031230</td>\n",
       "      <td>Frutas e Vegetais</td>\n",
       "      <td>160.36</td>\n",
       "      <td>None</td>\n",
       "      <td>2019</td>\n",
       "      <td>Médio</td>\n",
       "      <td>Nível 3</td>\n",
       "      <td>Supermercado Tipo 2</td>\n",
       "    </tr>\n",
       "    <tr>\n",
       "      <th>1</th>\n",
       "      <td>DRQ35</td>\n",
       "      <td>OUT049</td>\n",
       "      <td>185758.20</td>\n",
       "      <td>9.300</td>\n",
       "      <td>Baixo Teor de Gordura</td>\n",
       "      <td>0.042357</td>\n",
       "      <td>Bebidas Alcoólicas</td>\n",
       "      <td>123.24</td>\n",
       "      <td>None</td>\n",
       "      <td>2009</td>\n",
       "      <td>Médio</td>\n",
       "      <td>Nível 1</td>\n",
       "      <td>Supermercado Tipo 1</td>\n",
       "    </tr>\n",
       "    <tr>\n",
       "      <th>2</th>\n",
       "      <td>FDD14</td>\n",
       "      <td>OUT018</td>\n",
       "      <td>165983.94</td>\n",
       "      <td>20.700</td>\n",
       "      <td>Baixo Teor de Gordura</td>\n",
       "      <td>0.170500</td>\n",
       "      <td>Enlatados</td>\n",
       "      <td>184.13</td>\n",
       "      <td>None</td>\n",
       "      <td>2019</td>\n",
       "      <td>Médio</td>\n",
       "      <td>Nível 3</td>\n",
       "      <td>Supermercado Tipo 2</td>\n",
       "    </tr>\n",
       "    <tr>\n",
       "      <th>3</th>\n",
       "      <td>FDY37</td>\n",
       "      <td>OUT045</td>\n",
       "      <td>314923.40</td>\n",
       "      <td>17.000</td>\n",
       "      <td>Regular</td>\n",
       "      <td>0.026623</td>\n",
       "      <td>Enlatados</td>\n",
       "      <td>144.25</td>\n",
       "      <td>None</td>\n",
       "      <td>2012</td>\n",
       "      <td>None</td>\n",
       "      <td>Nível 2</td>\n",
       "      <td>Supermercado Tipo 1</td>\n",
       "    </tr>\n",
       "    <tr>\n",
       "      <th>4</th>\n",
       "      <td>FDY59</td>\n",
       "      <td>OUT018</td>\n",
       "      <td>64782.34</td>\n",
       "      <td>8.195</td>\n",
       "      <td>Baixo Teor de Gordura</td>\n",
       "      <td>0.000000</td>\n",
       "      <td>Confeitaria</td>\n",
       "      <td>93.15</td>\n",
       "      <td>None</td>\n",
       "      <td>2019</td>\n",
       "      <td>Médio</td>\n",
       "      <td>Nível 3</td>\n",
       "      <td>Supermercado Tipo 2</td>\n",
       "    </tr>\n",
       "    <tr>\n",
       "      <th>...</th>\n",
       "      <td>...</td>\n",
       "      <td>...</td>\n",
       "      <td>...</td>\n",
       "      <td>...</td>\n",
       "      <td>...</td>\n",
       "      <td>...</td>\n",
       "      <td>...</td>\n",
       "      <td>...</td>\n",
       "      <td>...</td>\n",
       "      <td>...</td>\n",
       "      <td>...</td>\n",
       "      <td>...</td>\n",
       "      <td>...</td>\n",
       "    </tr>\n",
       "    <tr>\n",
       "      <th>8545</th>\n",
       "      <td>FDY08</td>\n",
       "      <td>OUT010</td>\n",
       "      <td>28096.76</td>\n",
       "      <td>9.395</td>\n",
       "      <td>Regular</td>\n",
       "      <td>0.286345</td>\n",
       "      <td>Frutas e Vegetais</td>\n",
       "      <td>139.18</td>\n",
       "      <td>None</td>\n",
       "      <td>2008</td>\n",
       "      <td>None</td>\n",
       "      <td>Nível 3</td>\n",
       "      <td>Mercado</td>\n",
       "    </tr>\n",
       "    <tr>\n",
       "      <th>8546</th>\n",
       "      <td>FDC41</td>\n",
       "      <td>OUT017</td>\n",
       "      <td>130163.90</td>\n",
       "      <td>15.600</td>\n",
       "      <td>Baixo Teor de Gordura</td>\n",
       "      <td>0.117575</td>\n",
       "      <td>Alimentos Congelados</td>\n",
       "      <td>75.67</td>\n",
       "      <td>None</td>\n",
       "      <td>2017</td>\n",
       "      <td>None</td>\n",
       "      <td>Nível 2</td>\n",
       "      <td>Supermercado Tipo 1</td>\n",
       "    </tr>\n",
       "    <tr>\n",
       "      <th>8547</th>\n",
       "      <td>NCQ53</td>\n",
       "      <td>OUT045</td>\n",
       "      <td>614533.40</td>\n",
       "      <td>17.600</td>\n",
       "      <td>Baixo Teor de Gordura</td>\n",
       "      <td>0.018944</td>\n",
       "      <td>Mercearia</td>\n",
       "      <td>237.36</td>\n",
       "      <td>None</td>\n",
       "      <td>2012</td>\n",
       "      <td>None</td>\n",
       "      <td>Nível 2</td>\n",
       "      <td>Supermercado Tipo 1</td>\n",
       "    </tr>\n",
       "    <tr>\n",
       "      <th>8548</th>\n",
       "      <td>FDL46</td>\n",
       "      <td>OUT017</td>\n",
       "      <td>164985.24</td>\n",
       "      <td>20.350</td>\n",
       "      <td>baixo teor de gordura</td>\n",
       "      <td>0.054363</td>\n",
       "      <td>Lanches</td>\n",
       "      <td>117.95</td>\n",
       "      <td>None</td>\n",
       "      <td>2017</td>\n",
       "      <td>None</td>\n",
       "      <td>Nível 2</td>\n",
       "      <td>Supermercado Tipo 1</td>\n",
       "    </tr>\n",
       "    <tr>\n",
       "      <th>8549</th>\n",
       "      <td>NCN30</td>\n",
       "      <td>OUT046</td>\n",
       "      <td>96541.00</td>\n",
       "      <td>16.350</td>\n",
       "      <td>BTG</td>\n",
       "      <td>0.016993</td>\n",
       "      <td>Cereais</td>\n",
       "      <td>95.74</td>\n",
       "      <td>None</td>\n",
       "      <td>2007</td>\n",
       "      <td>Pequeno</td>\n",
       "      <td>Nível 1</td>\n",
       "      <td>Supermercado Tipo 1</td>\n",
       "    </tr>\n",
       "  </tbody>\n",
       "</table>\n",
       "<p>8523 rows × 13 columns</p>\n",
       "</div>"
      ],
      "text/plain": [
       "     item_identificador loja_identificador  vendas_totais  item_peso  \\\n",
       "0                 FDB08             OUT018      176503.58      6.055   \n",
       "1                 DRQ35             OUT049      185758.20      9.300   \n",
       "2                 FDD14             OUT018      165983.94     20.700   \n",
       "3                 FDY37             OUT045      314923.40     17.000   \n",
       "4                 FDY59             OUT018       64782.34      8.195   \n",
       "...                 ...                ...            ...        ...   \n",
       "8545              FDY08             OUT010       28096.76      9.395   \n",
       "8546              FDC41             OUT017      130163.90     15.600   \n",
       "8547              NCQ53             OUT045      614533.40     17.600   \n",
       "8548              FDL46             OUT017      164985.24     20.350   \n",
       "8549              NCN30             OUT046       96541.00     16.350   \n",
       "\n",
       "      item_conteudo_gordura  item_visibilidade             item_tipo  \\\n",
       "0     Baixo Teor de Gordura           0.031230     Frutas e Vegetais   \n",
       "1     Baixo Teor de Gordura           0.042357    Bebidas Alcoólicas   \n",
       "2     Baixo Teor de Gordura           0.170500             Enlatados   \n",
       "3                   Regular           0.026623             Enlatados   \n",
       "4     Baixo Teor de Gordura           0.000000           Confeitaria   \n",
       "...                     ...                ...                   ...   \n",
       "8545                Regular           0.286345     Frutas e Vegetais   \n",
       "8546  Baixo Teor de Gordura           0.117575  Alimentos Congelados   \n",
       "8547  Baixo Teor de Gordura           0.018944             Mercearia   \n",
       "8548  baixo teor de gordura           0.054363               Lanches   \n",
       "8549                    BTG           0.016993               Cereais   \n",
       "\n",
       "      item_preco item_quantidade_venda  loja_ano_estabelecimento loja_tamanho  \\\n",
       "0         160.36                  None                      2019        Médio   \n",
       "1         123.24                  None                      2009        Médio   \n",
       "2         184.13                  None                      2019        Médio   \n",
       "3         144.25                  None                      2012         None   \n",
       "4          93.15                  None                      2019        Médio   \n",
       "...          ...                   ...                       ...          ...   \n",
       "8545      139.18                  None                      2008         None   \n",
       "8546       75.67                  None                      2017         None   \n",
       "8547      237.36                  None                      2012         None   \n",
       "8548      117.95                  None                      2017         None   \n",
       "8549       95.74                  None                      2007      Pequeno   \n",
       "\n",
       "     loja_tipo_localizacao            loja_tipo  \n",
       "0                  Nível 3  Supermercado Tipo 2  \n",
       "1                  Nível 1  Supermercado Tipo 1  \n",
       "2                  Nível 3  Supermercado Tipo 2  \n",
       "3                  Nível 2  Supermercado Tipo 1  \n",
       "4                  Nível 3  Supermercado Tipo 2  \n",
       "...                    ...                  ...  \n",
       "8545               Nível 3              Mercado  \n",
       "8546               Nível 2  Supermercado Tipo 1  \n",
       "8547               Nível 2  Supermercado Tipo 1  \n",
       "8548               Nível 2  Supermercado Tipo 1  \n",
       "8549               Nível 1  Supermercado Tipo 1  \n",
       "\n",
       "[8523 rows x 13 columns]"
      ]
     },
     "execution_count": 22,
     "metadata": {},
     "output_type": "execute_result"
    }
   ],
   "source": [
    "df.drop_duplicates(inplace=True)\n",
    "df"
   ]
  },
  {
   "cell_type": "code",
   "execution_count": 23,
   "id": "2461e8ef-381a-4cb0-b3c2-4c59fd1d389e",
   "metadata": {
    "tags": []
   },
   "outputs": [],
   "source": [
    "df.drop(columns=['item_quantidade_venda'], inplace=True)"
   ]
  },
  {
   "cell_type": "code",
   "execution_count": null,
   "id": "381c8811-be97-46fe-9d85-f53a02624b9e",
   "metadata": {
    "tags": []
   },
   "outputs": [],
   "source": [
    "df['item_peso'].fillna(df['item_peso'].mean(), inplace=True)"
   ]
  },
  {
   "cell_type": "code",
   "execution_count": 24,
   "id": "2ab6a8e9-4d71-4ccf-bc67-f4755294e97a",
   "metadata": {
    "tags": []
   },
   "outputs": [],
   "source": [
    "df['loja_tamanho'].fillna('Não registrado', inplace=True)"
   ]
  },
  {
   "cell_type": "code",
   "execution_count": 25,
   "id": "f002c654-f9b6-4307-9ba9-c6c1d3dc1257",
   "metadata": {
    "tags": []
   },
   "outputs": [
    {
     "name": "stdout",
     "output_type": "stream",
     "text": [
      "<class 'pandas.core.frame.DataFrame'>\n",
      "Int64Index: 8523 entries, 0 to 8549\n",
      "Data columns (total 12 columns):\n",
      " #   Column                    Non-Null Count  Dtype  \n",
      "---  ------                    --------------  -----  \n",
      " 0   item_identificador        8523 non-null   object \n",
      " 1   loja_identificador        8523 non-null   object \n",
      " 2   vendas_totais             8523 non-null   float64\n",
      " 3   item_peso                 7060 non-null   float64\n",
      " 4   item_conteudo_gordura     8523 non-null   object \n",
      " 5   item_visibilidade         8523 non-null   float64\n",
      " 6   item_tipo                 8523 non-null   object \n",
      " 7   item_preco                8523 non-null   float64\n",
      " 8   loja_ano_estabelecimento  8523 non-null   int64  \n",
      " 9   loja_tamanho              8523 non-null   object \n",
      " 10  loja_tipo_localizacao     8523 non-null   object \n",
      " 11  loja_tipo                 8523 non-null   object \n",
      "dtypes: float64(4), int64(1), object(7)\n",
      "memory usage: 865.6+ KB\n"
     ]
    }
   ],
   "source": [
    "df.info()"
   ]
  },
  {
   "cell_type": "code",
   "execution_count": 26,
   "id": "04b41e63-7574-49ca-9763-9f6a0af76fdd",
   "metadata": {
    "tags": []
   },
   "outputs": [],
   "source": [
    "mapeamento = {\n",
    "    'BTG': 'Baixo Teor de Gordura',\n",
    "    'reg': 'Regular',\n",
    "    'baixo teor de gordura': 'Baixo Teor de Gordura'\n",
    "}"
   ]
  },
  {
   "cell_type": "code",
   "execution_count": 27,
   "id": "2deb1cf8-2724-42eb-a889-127b62908333",
   "metadata": {
    "tags": []
   },
   "outputs": [],
   "source": [
    "df['item_conteudo_gordura'] = df['item_conteudo_gordura'].replace(mapeamento)"
   ]
  },
  {
   "cell_type": "code",
   "execution_count": 28,
   "id": "a32f8114-8f9a-461a-ac0c-e8559633f51d",
   "metadata": {
    "tags": []
   },
   "outputs": [
    {
     "data": {
      "text/plain": [
       "array(['Baixo Teor de Gordura', 'Regular'], dtype=object)"
      ]
     },
     "execution_count": 28,
     "metadata": {},
     "output_type": "execute_result"
    }
   ],
   "source": [
    "df['item_conteudo_gordura'].unique()"
   ]
  },
  {
   "cell_type": "code",
   "execution_count": 30,
   "id": "a82d5df1-80e8-4333-86b2-997ea5760197",
   "metadata": {
    "tags": []
   },
   "outputs": [
    {
     "data": {
      "text/html": [
       "<div>\n",
       "<style scoped>\n",
       "    .dataframe tbody tr th:only-of-type {\n",
       "        vertical-align: middle;\n",
       "    }\n",
       "\n",
       "    .dataframe tbody tr th {\n",
       "        vertical-align: top;\n",
       "    }\n",
       "\n",
       "    .dataframe thead th {\n",
       "        text-align: right;\n",
       "    }\n",
       "</style>\n",
       "<table border=\"1\" class=\"dataframe\">\n",
       "  <thead>\n",
       "    <tr style=\"text-align: right;\">\n",
       "      <th></th>\n",
       "      <th>item_identificador</th>\n",
       "      <th>loja_identificador</th>\n",
       "      <th>vendas_totais</th>\n",
       "      <th>item_peso</th>\n",
       "      <th>item_conteudo_gordura</th>\n",
       "      <th>item_visibilidade</th>\n",
       "      <th>item_tipo</th>\n",
       "      <th>item_preco</th>\n",
       "      <th>loja_ano_estabelecimento</th>\n",
       "      <th>loja_tamanho</th>\n",
       "      <th>loja_tipo_localizacao</th>\n",
       "      <th>loja_tipo</th>\n",
       "    </tr>\n",
       "  </thead>\n",
       "  <tbody>\n",
       "    <tr>\n",
       "      <th>0</th>\n",
       "      <td>FDB08</td>\n",
       "      <td>OUT018</td>\n",
       "      <td>176503.58</td>\n",
       "      <td>6.055</td>\n",
       "      <td>Baixo Teor de Gordura</td>\n",
       "      <td>0.031230</td>\n",
       "      <td>Frutas e Vegetais</td>\n",
       "      <td>160.36</td>\n",
       "      <td>2019</td>\n",
       "      <td>Médio</td>\n",
       "      <td>Nível 3</td>\n",
       "      <td>Supermercado Tipo 2</td>\n",
       "    </tr>\n",
       "    <tr>\n",
       "      <th>1</th>\n",
       "      <td>DRQ35</td>\n",
       "      <td>OUT049</td>\n",
       "      <td>185758.20</td>\n",
       "      <td>9.300</td>\n",
       "      <td>Baixo Teor de Gordura</td>\n",
       "      <td>0.042357</td>\n",
       "      <td>Bebidas Alcoólicas</td>\n",
       "      <td>123.24</td>\n",
       "      <td>2009</td>\n",
       "      <td>Médio</td>\n",
       "      <td>Nível 1</td>\n",
       "      <td>Supermercado Tipo 1</td>\n",
       "    </tr>\n",
       "    <tr>\n",
       "      <th>2</th>\n",
       "      <td>FDD14</td>\n",
       "      <td>OUT018</td>\n",
       "      <td>165983.94</td>\n",
       "      <td>20.700</td>\n",
       "      <td>Baixo Teor de Gordura</td>\n",
       "      <td>0.170500</td>\n",
       "      <td>Enlatados</td>\n",
       "      <td>184.13</td>\n",
       "      <td>2019</td>\n",
       "      <td>Médio</td>\n",
       "      <td>Nível 3</td>\n",
       "      <td>Supermercado Tipo 2</td>\n",
       "    </tr>\n",
       "    <tr>\n",
       "      <th>3</th>\n",
       "      <td>FDY37</td>\n",
       "      <td>OUT045</td>\n",
       "      <td>314923.40</td>\n",
       "      <td>17.000</td>\n",
       "      <td>Regular</td>\n",
       "      <td>0.026623</td>\n",
       "      <td>Enlatados</td>\n",
       "      <td>144.25</td>\n",
       "      <td>2012</td>\n",
       "      <td>Não registrado</td>\n",
       "      <td>Nível 2</td>\n",
       "      <td>Supermercado Tipo 1</td>\n",
       "    </tr>\n",
       "    <tr>\n",
       "      <th>4</th>\n",
       "      <td>FDY59</td>\n",
       "      <td>OUT018</td>\n",
       "      <td>64782.34</td>\n",
       "      <td>8.195</td>\n",
       "      <td>Baixo Teor de Gordura</td>\n",
       "      <td>0.000000</td>\n",
       "      <td>Confeitaria</td>\n",
       "      <td>93.15</td>\n",
       "      <td>2019</td>\n",
       "      <td>Médio</td>\n",
       "      <td>Nível 3</td>\n",
       "      <td>Supermercado Tipo 2</td>\n",
       "    </tr>\n",
       "  </tbody>\n",
       "</table>\n",
       "</div>"
      ],
      "text/plain": [
       "  item_identificador loja_identificador  vendas_totais  item_peso  \\\n",
       "0              FDB08             OUT018      176503.58      6.055   \n",
       "1              DRQ35             OUT049      185758.20      9.300   \n",
       "2              FDD14             OUT018      165983.94     20.700   \n",
       "3              FDY37             OUT045      314923.40     17.000   \n",
       "4              FDY59             OUT018       64782.34      8.195   \n",
       "\n",
       "   item_conteudo_gordura  item_visibilidade           item_tipo  item_preco  \\\n",
       "0  Baixo Teor de Gordura           0.031230   Frutas e Vegetais      160.36   \n",
       "1  Baixo Teor de Gordura           0.042357  Bebidas Alcoólicas      123.24   \n",
       "2  Baixo Teor de Gordura           0.170500           Enlatados      184.13   \n",
       "3                Regular           0.026623           Enlatados      144.25   \n",
       "4  Baixo Teor de Gordura           0.000000         Confeitaria       93.15   \n",
       "\n",
       "   loja_ano_estabelecimento    loja_tamanho loja_tipo_localizacao  \\\n",
       "0                      2019           Médio               Nível 3   \n",
       "1                      2009           Médio               Nível 1   \n",
       "2                      2019           Médio               Nível 3   \n",
       "3                      2012  Não registrado               Nível 2   \n",
       "4                      2019           Médio               Nível 3   \n",
       "\n",
       "             loja_tipo  \n",
       "0  Supermercado Tipo 2  \n",
       "1  Supermercado Tipo 1  \n",
       "2  Supermercado Tipo 2  \n",
       "3  Supermercado Tipo 1  \n",
       "4  Supermercado Tipo 2  "
      ]
     },
     "execution_count": 30,
     "metadata": {},
     "output_type": "execute_result"
    }
   ],
   "source": [
    "df.head()"
   ]
  },
  {
   "cell_type": "code",
   "execution_count": 31,
   "id": "0de21d90-9ed9-4bf7-b1c6-0c0be5907ac8",
   "metadata": {
    "tags": []
   },
   "outputs": [
    {
     "data": {
      "text/html": [
       "<div>\n",
       "<style scoped>\n",
       "    .dataframe tbody tr th:only-of-type {\n",
       "        vertical-align: middle;\n",
       "    }\n",
       "\n",
       "    .dataframe tbody tr th {\n",
       "        vertical-align: top;\n",
       "    }\n",
       "\n",
       "    .dataframe thead th {\n",
       "        text-align: right;\n",
       "    }\n",
       "</style>\n",
       "<table border=\"1\" class=\"dataframe\">\n",
       "  <thead>\n",
       "    <tr style=\"text-align: right;\">\n",
       "      <th></th>\n",
       "      <th>vendas_totais</th>\n",
       "      <th>item_peso</th>\n",
       "      <th>item_visibilidade</th>\n",
       "      <th>item_preco</th>\n",
       "      <th>loja_ano_estabelecimento</th>\n",
       "    </tr>\n",
       "  </thead>\n",
       "  <tbody>\n",
       "    <tr>\n",
       "      <th>count</th>\n",
       "      <td>8.523000e+03</td>\n",
       "      <td>7060.000000</td>\n",
       "      <td>8523.000000</td>\n",
       "      <td>8523.000000</td>\n",
       "      <td>8523.000000</td>\n",
       "    </tr>\n",
       "    <tr>\n",
       "      <th>mean</th>\n",
       "      <td>2.181289e+05</td>\n",
       "      <td>12.857645</td>\n",
       "      <td>0.066132</td>\n",
       "      <td>140.992810</td>\n",
       "      <td>2007.831867</td>\n",
       "    </tr>\n",
       "    <tr>\n",
       "      <th>std</th>\n",
       "      <td>1.706500e+05</td>\n",
       "      <td>4.643456</td>\n",
       "      <td>0.051598</td>\n",
       "      <td>62.275166</td>\n",
       "      <td>8.371760</td>\n",
       "    </tr>\n",
       "    <tr>\n",
       "      <th>min</th>\n",
       "      <td>3.329000e+03</td>\n",
       "      <td>4.555000</td>\n",
       "      <td>0.000000</td>\n",
       "      <td>31.290000</td>\n",
       "      <td>1995.000000</td>\n",
       "    </tr>\n",
       "    <tr>\n",
       "      <th>25%</th>\n",
       "      <td>8.342474e+04</td>\n",
       "      <td>8.773750</td>\n",
       "      <td>0.026989</td>\n",
       "      <td>93.825000</td>\n",
       "      <td>1997.000000</td>\n",
       "    </tr>\n",
       "    <tr>\n",
       "      <th>50%</th>\n",
       "      <td>1.794331e+05</td>\n",
       "      <td>12.600000</td>\n",
       "      <td>0.053931</td>\n",
       "      <td>143.010000</td>\n",
       "      <td>2009.000000</td>\n",
       "    </tr>\n",
       "    <tr>\n",
       "      <th>75%</th>\n",
       "      <td>3.101296e+05</td>\n",
       "      <td>16.850000</td>\n",
       "      <td>0.094585</td>\n",
       "      <td>185.645000</td>\n",
       "      <td>2014.000000</td>\n",
       "    </tr>\n",
       "    <tr>\n",
       "      <th>max</th>\n",
       "      <td>1.308696e+06</td>\n",
       "      <td>21.350000</td>\n",
       "      <td>0.328391</td>\n",
       "      <td>266.890000</td>\n",
       "      <td>2019.000000</td>\n",
       "    </tr>\n",
       "  </tbody>\n",
       "</table>\n",
       "</div>"
      ],
      "text/plain": [
       "       vendas_totais    item_peso  item_visibilidade   item_preco  \\\n",
       "count   8.523000e+03  7060.000000        8523.000000  8523.000000   \n",
       "mean    2.181289e+05    12.857645           0.066132   140.992810   \n",
       "std     1.706500e+05     4.643456           0.051598    62.275166   \n",
       "min     3.329000e+03     4.555000           0.000000    31.290000   \n",
       "25%     8.342474e+04     8.773750           0.026989    93.825000   \n",
       "50%     1.794331e+05    12.600000           0.053931   143.010000   \n",
       "75%     3.101296e+05    16.850000           0.094585   185.645000   \n",
       "max     1.308696e+06    21.350000           0.328391   266.890000   \n",
       "\n",
       "       loja_ano_estabelecimento  \n",
       "count               8523.000000  \n",
       "mean                2007.831867  \n",
       "std                    8.371760  \n",
       "min                 1995.000000  \n",
       "25%                 1997.000000  \n",
       "50%                 2009.000000  \n",
       "75%                 2014.000000  \n",
       "max                 2019.000000  "
      ]
     },
     "execution_count": 31,
     "metadata": {},
     "output_type": "execute_result"
    }
   ],
   "source": [
    "df.describe()"
   ]
  },
  {
   "cell_type": "code",
   "execution_count": 32,
   "id": "120e5de5-f9a3-4f48-9452-065a2c460dfe",
   "metadata": {
    "tags": []
   },
   "outputs": [
    {
     "name": "stdout",
     "output_type": "stream",
     "text": [
      "<class 'pandas.core.frame.DataFrame'>\n",
      "Int64Index: 8523 entries, 0 to 8549\n",
      "Data columns (total 12 columns):\n",
      " #   Column                    Non-Null Count  Dtype  \n",
      "---  ------                    --------------  -----  \n",
      " 0   item_identificador        8523 non-null   object \n",
      " 1   loja_identificador        8523 non-null   object \n",
      " 2   vendas_totais             8523 non-null   float64\n",
      " 3   item_peso                 7060 non-null   float64\n",
      " 4   item_conteudo_gordura     8523 non-null   object \n",
      " 5   item_visibilidade         8523 non-null   float64\n",
      " 6   item_tipo                 8523 non-null   object \n",
      " 7   item_preco                8523 non-null   float64\n",
      " 8   loja_ano_estabelecimento  8523 non-null   int64  \n",
      " 9   loja_tamanho              8523 non-null   object \n",
      " 10  loja_tipo_localizacao     8523 non-null   object \n",
      " 11  loja_tipo                 8523 non-null   object \n",
      "dtypes: float64(4), int64(1), object(7)\n",
      "memory usage: 865.6+ KB\n"
     ]
    }
   ],
   "source": [
    "df.info()"
   ]
  },
  {
   "cell_type": "code",
   "execution_count": 33,
   "id": "e14c4954-10c0-4e11-a36d-9dc4edbca7ae",
   "metadata": {
    "tags": []
   },
   "outputs": [
    {
     "data": {
      "text/plain": [
       "item_identificador          1559\n",
       "loja_identificador            10\n",
       "vendas_totais               3493\n",
       "item_peso                    415\n",
       "item_conteudo_gordura          2\n",
       "item_visibilidade           7880\n",
       "item_tipo                     16\n",
       "item_preco                  4839\n",
       "loja_ano_estabelecimento       9\n",
       "loja_tamanho                   4\n",
       "loja_tipo_localizacao          3\n",
       "loja_tipo                      4\n",
       "dtype: int64"
      ]
     },
     "execution_count": 33,
     "metadata": {},
     "output_type": "execute_result"
    }
   ],
   "source": [
    "df.nunique()"
   ]
  },
  {
   "cell_type": "code",
   "execution_count": 34,
   "id": "fbe0392c-2666-44b8-abd1-22e3a93fa211",
   "metadata": {
    "tags": []
   },
   "outputs": [
    {
     "data": {
      "text/plain": [
       "0       False\n",
       "1       False\n",
       "2       False\n",
       "3       False\n",
       "4       False\n",
       "        ...  \n",
       "8545    False\n",
       "8546    False\n",
       "8547    False\n",
       "8548    False\n",
       "8549    False\n",
       "Length: 8523, dtype: bool"
      ]
     },
     "execution_count": 34,
     "metadata": {},
     "output_type": "execute_result"
    }
   ],
   "source": [
    "df.duplicated()"
   ]
  },
  {
   "cell_type": "code",
   "execution_count": 35,
   "id": "cbadabb5-54a0-4a63-9d60-2895a46ae37d",
   "metadata": {
    "tags": []
   },
   "outputs": [
    {
     "data": {
      "text/plain": [
       "0"
      ]
     },
     "execution_count": 35,
     "metadata": {},
     "output_type": "execute_result"
    }
   ],
   "source": [
    "df.duplicated().sum()"
   ]
  },
  {
   "cell_type": "code",
   "execution_count": 36,
   "id": "0221d857-2313-4afa-9e35-1f8469bbe2bc",
   "metadata": {
    "tags": []
   },
   "outputs": [
    {
     "data": {
      "text/plain": [
       "item_identificador             0\n",
       "loja_identificador             0\n",
       "vendas_totais                  0\n",
       "item_peso                   1463\n",
       "item_conteudo_gordura          0\n",
       "item_visibilidade              0\n",
       "item_tipo                      0\n",
       "item_preco                     0\n",
       "loja_ano_estabelecimento       0\n",
       "loja_tamanho                   0\n",
       "loja_tipo_localizacao          0\n",
       "loja_tipo                      0\n",
       "dtype: int64"
      ]
     },
     "execution_count": 36,
     "metadata": {},
     "output_type": "execute_result"
    }
   ],
   "source": [
    "df.isnull().sum()"
   ]
  },
  {
   "cell_type": "code",
   "execution_count": 37,
   "id": "32d5f256-2ce6-4e99-83ce-75b0837f9e3a",
   "metadata": {
    "tags": []
   },
   "outputs": [
    {
     "data": {
      "text/plain": [
       "array(['Baixo Teor de Gordura', 'Regular'], dtype=object)"
      ]
     },
     "execution_count": 37,
     "metadata": {},
     "output_type": "execute_result"
    }
   ],
   "source": [
    "df['item_conteudo_gordura'].unique()"
   ]
  },
  {
   "cell_type": "code",
   "execution_count": 38,
   "id": "6a08e033-4757-4249-b402-a2af2ae177eb",
   "metadata": {
    "tags": []
   },
   "outputs": [
    {
     "data": {
      "text/html": [
       "<div>\n",
       "<style scoped>\n",
       "    .dataframe tbody tr th:only-of-type {\n",
       "        vertical-align: middle;\n",
       "    }\n",
       "\n",
       "    .dataframe tbody tr th {\n",
       "        vertical-align: top;\n",
       "    }\n",
       "\n",
       "    .dataframe thead th {\n",
       "        text-align: right;\n",
       "    }\n",
       "</style>\n",
       "<table border=\"1\" class=\"dataframe\">\n",
       "  <thead>\n",
       "    <tr style=\"text-align: right;\">\n",
       "      <th></th>\n",
       "      <th>item_identificador</th>\n",
       "      <th>loja_identificador</th>\n",
       "      <th>vendas_totais</th>\n",
       "      <th>item_peso</th>\n",
       "      <th>item_conteudo_gordura</th>\n",
       "      <th>item_visibilidade</th>\n",
       "      <th>item_tipo</th>\n",
       "      <th>item_preco</th>\n",
       "      <th>loja_ano_estabelecimento</th>\n",
       "      <th>loja_tamanho</th>\n",
       "      <th>loja_tipo_localizacao</th>\n",
       "      <th>loja_tipo</th>\n",
       "    </tr>\n",
       "  </thead>\n",
       "  <tbody>\n",
       "    <tr>\n",
       "      <th>0</th>\n",
       "      <td>FDB08</td>\n",
       "      <td>OUT018</td>\n",
       "      <td>176503.58</td>\n",
       "      <td>6.055</td>\n",
       "      <td>Baixo Teor de Gordura</td>\n",
       "      <td>0.031230</td>\n",
       "      <td>Frutas e Vegetais</td>\n",
       "      <td>160.36</td>\n",
       "      <td>2019</td>\n",
       "      <td>Médio</td>\n",
       "      <td>Nível 3</td>\n",
       "      <td>Supermercado Tipo 2</td>\n",
       "    </tr>\n",
       "    <tr>\n",
       "      <th>1</th>\n",
       "      <td>DRQ35</td>\n",
       "      <td>OUT049</td>\n",
       "      <td>185758.20</td>\n",
       "      <td>9.300</td>\n",
       "      <td>Baixo Teor de Gordura</td>\n",
       "      <td>0.042357</td>\n",
       "      <td>Bebidas Alcoólicas</td>\n",
       "      <td>123.24</td>\n",
       "      <td>2009</td>\n",
       "      <td>Médio</td>\n",
       "      <td>Nível 1</td>\n",
       "      <td>Supermercado Tipo 1</td>\n",
       "    </tr>\n",
       "    <tr>\n",
       "      <th>2</th>\n",
       "      <td>FDD14</td>\n",
       "      <td>OUT018</td>\n",
       "      <td>165983.94</td>\n",
       "      <td>20.700</td>\n",
       "      <td>Baixo Teor de Gordura</td>\n",
       "      <td>0.170500</td>\n",
       "      <td>Enlatados</td>\n",
       "      <td>184.13</td>\n",
       "      <td>2019</td>\n",
       "      <td>Médio</td>\n",
       "      <td>Nível 3</td>\n",
       "      <td>Supermercado Tipo 2</td>\n",
       "    </tr>\n",
       "    <tr>\n",
       "      <th>3</th>\n",
       "      <td>FDY37</td>\n",
       "      <td>OUT045</td>\n",
       "      <td>314923.40</td>\n",
       "      <td>17.000</td>\n",
       "      <td>Regular</td>\n",
       "      <td>0.026623</td>\n",
       "      <td>Enlatados</td>\n",
       "      <td>144.25</td>\n",
       "      <td>2012</td>\n",
       "      <td>Não registrado</td>\n",
       "      <td>Nível 2</td>\n",
       "      <td>Supermercado Tipo 1</td>\n",
       "    </tr>\n",
       "    <tr>\n",
       "      <th>4</th>\n",
       "      <td>FDY59</td>\n",
       "      <td>OUT018</td>\n",
       "      <td>64782.34</td>\n",
       "      <td>8.195</td>\n",
       "      <td>Baixo Teor de Gordura</td>\n",
       "      <td>0.000000</td>\n",
       "      <td>Confeitaria</td>\n",
       "      <td>93.15</td>\n",
       "      <td>2019</td>\n",
       "      <td>Médio</td>\n",
       "      <td>Nível 3</td>\n",
       "      <td>Supermercado Tipo 2</td>\n",
       "    </tr>\n",
       "    <tr>\n",
       "      <th>...</th>\n",
       "      <td>...</td>\n",
       "      <td>...</td>\n",
       "      <td>...</td>\n",
       "      <td>...</td>\n",
       "      <td>...</td>\n",
       "      <td>...</td>\n",
       "      <td>...</td>\n",
       "      <td>...</td>\n",
       "      <td>...</td>\n",
       "      <td>...</td>\n",
       "      <td>...</td>\n",
       "      <td>...</td>\n",
       "    </tr>\n",
       "    <tr>\n",
       "      <th>8545</th>\n",
       "      <td>FDY08</td>\n",
       "      <td>OUT010</td>\n",
       "      <td>28096.76</td>\n",
       "      <td>9.395</td>\n",
       "      <td>Regular</td>\n",
       "      <td>0.286345</td>\n",
       "      <td>Frutas e Vegetais</td>\n",
       "      <td>139.18</td>\n",
       "      <td>2008</td>\n",
       "      <td>Não registrado</td>\n",
       "      <td>Nível 3</td>\n",
       "      <td>Mercado</td>\n",
       "    </tr>\n",
       "    <tr>\n",
       "      <th>8546</th>\n",
       "      <td>FDC41</td>\n",
       "      <td>OUT017</td>\n",
       "      <td>130163.90</td>\n",
       "      <td>15.600</td>\n",
       "      <td>Baixo Teor de Gordura</td>\n",
       "      <td>0.117575</td>\n",
       "      <td>Alimentos Congelados</td>\n",
       "      <td>75.67</td>\n",
       "      <td>2017</td>\n",
       "      <td>Não registrado</td>\n",
       "      <td>Nível 2</td>\n",
       "      <td>Supermercado Tipo 1</td>\n",
       "    </tr>\n",
       "    <tr>\n",
       "      <th>8547</th>\n",
       "      <td>NCQ53</td>\n",
       "      <td>OUT045</td>\n",
       "      <td>614533.40</td>\n",
       "      <td>17.600</td>\n",
       "      <td>Baixo Teor de Gordura</td>\n",
       "      <td>0.018944</td>\n",
       "      <td>Mercearia</td>\n",
       "      <td>237.36</td>\n",
       "      <td>2012</td>\n",
       "      <td>Não registrado</td>\n",
       "      <td>Nível 2</td>\n",
       "      <td>Supermercado Tipo 1</td>\n",
       "    </tr>\n",
       "    <tr>\n",
       "      <th>8548</th>\n",
       "      <td>FDL46</td>\n",
       "      <td>OUT017</td>\n",
       "      <td>164985.24</td>\n",
       "      <td>20.350</td>\n",
       "      <td>Baixo Teor de Gordura</td>\n",
       "      <td>0.054363</td>\n",
       "      <td>Lanches</td>\n",
       "      <td>117.95</td>\n",
       "      <td>2017</td>\n",
       "      <td>Não registrado</td>\n",
       "      <td>Nível 2</td>\n",
       "      <td>Supermercado Tipo 1</td>\n",
       "    </tr>\n",
       "    <tr>\n",
       "      <th>8549</th>\n",
       "      <td>NCN30</td>\n",
       "      <td>OUT046</td>\n",
       "      <td>96541.00</td>\n",
       "      <td>16.350</td>\n",
       "      <td>Baixo Teor de Gordura</td>\n",
       "      <td>0.016993</td>\n",
       "      <td>Cereais</td>\n",
       "      <td>95.74</td>\n",
       "      <td>2007</td>\n",
       "      <td>Pequeno</td>\n",
       "      <td>Nível 1</td>\n",
       "      <td>Supermercado Tipo 1</td>\n",
       "    </tr>\n",
       "  </tbody>\n",
       "</table>\n",
       "<p>8523 rows × 12 columns</p>\n",
       "</div>"
      ],
      "text/plain": [
       "     item_identificador loja_identificador  vendas_totais  item_peso  \\\n",
       "0                 FDB08             OUT018      176503.58      6.055   \n",
       "1                 DRQ35             OUT049      185758.20      9.300   \n",
       "2                 FDD14             OUT018      165983.94     20.700   \n",
       "3                 FDY37             OUT045      314923.40     17.000   \n",
       "4                 FDY59             OUT018       64782.34      8.195   \n",
       "...                 ...                ...            ...        ...   \n",
       "8545              FDY08             OUT010       28096.76      9.395   \n",
       "8546              FDC41             OUT017      130163.90     15.600   \n",
       "8547              NCQ53             OUT045      614533.40     17.600   \n",
       "8548              FDL46             OUT017      164985.24     20.350   \n",
       "8549              NCN30             OUT046       96541.00     16.350   \n",
       "\n",
       "      item_conteudo_gordura  item_visibilidade             item_tipo  \\\n",
       "0     Baixo Teor de Gordura           0.031230     Frutas e Vegetais   \n",
       "1     Baixo Teor de Gordura           0.042357    Bebidas Alcoólicas   \n",
       "2     Baixo Teor de Gordura           0.170500             Enlatados   \n",
       "3                   Regular           0.026623             Enlatados   \n",
       "4     Baixo Teor de Gordura           0.000000           Confeitaria   \n",
       "...                     ...                ...                   ...   \n",
       "8545                Regular           0.286345     Frutas e Vegetais   \n",
       "8546  Baixo Teor de Gordura           0.117575  Alimentos Congelados   \n",
       "8547  Baixo Teor de Gordura           0.018944             Mercearia   \n",
       "8548  Baixo Teor de Gordura           0.054363               Lanches   \n",
       "8549  Baixo Teor de Gordura           0.016993               Cereais   \n",
       "\n",
       "      item_preco  loja_ano_estabelecimento    loja_tamanho  \\\n",
       "0         160.36                      2019           Médio   \n",
       "1         123.24                      2009           Médio   \n",
       "2         184.13                      2019           Médio   \n",
       "3         144.25                      2012  Não registrado   \n",
       "4          93.15                      2019           Médio   \n",
       "...          ...                       ...             ...   \n",
       "8545      139.18                      2008  Não registrado   \n",
       "8546       75.67                      2017  Não registrado   \n",
       "8547      237.36                      2012  Não registrado   \n",
       "8548      117.95                      2017  Não registrado   \n",
       "8549       95.74                      2007         Pequeno   \n",
       "\n",
       "     loja_tipo_localizacao            loja_tipo  \n",
       "0                  Nível 3  Supermercado Tipo 2  \n",
       "1                  Nível 1  Supermercado Tipo 1  \n",
       "2                  Nível 3  Supermercado Tipo 2  \n",
       "3                  Nível 2  Supermercado Tipo 1  \n",
       "4                  Nível 3  Supermercado Tipo 2  \n",
       "...                    ...                  ...  \n",
       "8545               Nível 3              Mercado  \n",
       "8546               Nível 2  Supermercado Tipo 1  \n",
       "8547               Nível 2  Supermercado Tipo 1  \n",
       "8548               Nível 2  Supermercado Tipo 1  \n",
       "8549               Nível 1  Supermercado Tipo 1  \n",
       "\n",
       "[8523 rows x 12 columns]"
      ]
     },
     "execution_count": 38,
     "metadata": {},
     "output_type": "execute_result"
    }
   ],
   "source": [
    "df.drop_duplicates(inplace=True)\n",
    "df"
   ]
  },
  {
   "cell_type": "code",
   "execution_count": 39,
   "id": "f4828fd6-da0d-44ab-8337-728cdc033280",
   "metadata": {
    "tags": []
   },
   "outputs": [
    {
     "name": "stdout",
     "output_type": "stream",
     "text": [
      "<class 'pandas.core.frame.DataFrame'>\n",
      "Int64Index: 8523 entries, 0 to 8549\n",
      "Data columns (total 12 columns):\n",
      " #   Column                    Non-Null Count  Dtype  \n",
      "---  ------                    --------------  -----  \n",
      " 0   item_identificador        8523 non-null   object \n",
      " 1   loja_identificador        8523 non-null   object \n",
      " 2   vendas_totais             8523 non-null   float64\n",
      " 3   item_peso                 7060 non-null   float64\n",
      " 4   item_conteudo_gordura     8523 non-null   object \n",
      " 5   item_visibilidade         8523 non-null   float64\n",
      " 6   item_tipo                 8523 non-null   object \n",
      " 7   item_preco                8523 non-null   float64\n",
      " 8   loja_ano_estabelecimento  8523 non-null   int64  \n",
      " 9   loja_tamanho              8523 non-null   object \n",
      " 10  loja_tipo_localizacao     8523 non-null   object \n",
      " 11  loja_tipo                 8523 non-null   object \n",
      "dtypes: float64(4), int64(1), object(7)\n",
      "memory usage: 865.6+ KB\n"
     ]
    }
   ],
   "source": [
    "df.info()"
   ]
  },
  {
   "cell_type": "code",
   "execution_count": 40,
   "id": "996a3c2b-ffa9-465c-9c0a-f5b74895de8a",
   "metadata": {
    "tags": []
   },
   "outputs": [],
   "source": [
    "import matplotlib.pyplot as plt"
   ]
  },
  {
   "cell_type": "code",
   "execution_count": 41,
   "id": "d84016d6-1ae1-459e-b6ed-a1b847d2b9ac",
   "metadata": {
    "tags": []
   },
   "outputs": [],
   "source": [
    "import pandas as pd"
   ]
  },
  {
   "cell_type": "code",
   "execution_count": 42,
   "id": "7dbf11ac-5da6-4cfe-b18a-faa67c11894d",
   "metadata": {
    "tags": []
   },
   "outputs": [
    {
     "data": {
      "image/png": "[encoded data removed]",
      "text/plain": [
       "<Figure size 1000x600 with 1 Axes>"
      ]
     },
     "metadata": {},
     "output_type": "display_data"
    }
   ],
   "source": [
    "df_agrupado = df.groupby('loja_tamanho')['vendas_totais'].sum().reset_index()\n",
    "cor_fundo = \"#ebebeb\"\n",
    "cor_barras = \"#e23155\"\n",
    "cor_texto = \"#19325c\"\n",
    "fig, ax = plt.subplots(figsize=(10, 6))\n",
    "fig.set_facecolor(cor_fundo)\n",
    "ax.set_facecolor(cor_fundo)\n",
    "barras = ax.bar(df_agrupado['loja_tamanho'], df_agrupado['vendas_totais'], color=cor_barras)\n",
    "for bar in barras:\n",
    "    altura_barra = bar.get_height()\n",
    "    valor_vendas = altura_barra / 1000000  # Converter para milhões\n",
    "    ax.annotate(f'R$ {valor_vendas:.2f} M', xy=(bar.get_x() + bar.get_width() / 2, altura_barra),\n",
    "                xytext=(0, 3), textcoords='offset points', ha='center', color=cor_texto)\n",
    "    ax.set_ylabel('Total de Vendas (R$)')\n",
    "ax.set_title('Total de Vendas por Tamanho de Loja')\n",
    "plt.xticks(rotation=0)\n",
    "ax.spines['top'].set_visible(False)\n",
    "ax.spines['right'].set_visible(False)\n",
    "ax.spines['bottom'].set_color(cor_texto)\n",
    "ax.spines['left'].set_color(cor_texto)\n",
    "ax.tick_params(axis='x', colors=cor_texto)\n",
    "ax.tick_params(axis='y', colors=cor_texto)\n",
    "ax.yaxis.label.set_color(cor_texto)\n",
    "ax.xaxis.label.set_color(cor_texto)\n",
    "plt.tight_layout()\n",
    "plt.show()"
   ]
  },
  {
   "cell_type": "code",
   "execution_count": 44,
   "id": "dadffaf6-9e80-4cab-a892-36876fcc8bac",
   "metadata": {
    "tags": []
   },
   "outputs": [
    {
     "name": "stdout",
     "output_type": "stream",
     "text": [
      "<class 'pandas.core.frame.DataFrame'>\n",
      "Int64Index: 8523 entries, 0 to 8549\n",
      "Data columns (total 12 columns):\n",
      " #   Column                    Non-Null Count  Dtype  \n",
      "---  ------                    --------------  -----  \n",
      " 0   item_identificador        8523 non-null   object \n",
      " 1   loja_identificador        8523 non-null   object \n",
      " 2   vendas_totais             8523 non-null   float64\n",
      " 3   item_peso                 7060 non-null   float64\n",
      " 4   item_conteudo_gordura     8523 non-null   object \n",
      " 5   item_visibilidade         8523 non-null   float64\n",
      " 6   item_tipo                 8523 non-null   object \n",
      " 7   item_preco                8523 non-null   float64\n",
      " 8   loja_ano_estabelecimento  8523 non-null   int64  \n",
      " 9   loja_tamanho              8523 non-null   object \n",
      " 10  loja_tipo_localizacao     8523 non-null   object \n",
      " 11  loja_tipo                 8523 non-null   object \n",
      "dtypes: float64(4), int64(1), object(7)\n",
      "memory usage: 865.6+ KB\n"
     ]
    },
    {
     "ename": "KeyError",
     "evalue": "'loja'",
     "output_type": "error",
     "traceback": [
      "\u001b[1;31m---------------------------------------------------------------------------\u001b[0m",
      "\u001b[1;31mKeyError\u001b[0m                                  Traceback (most recent call last)",
      "File \u001b[1;32mC:\\ProgramData\\anaconda3\\Lib\\site-packages\\pandas\\core\\indexes\\base.py:3802\u001b[0m, in \u001b[0;36mIndex.get_loc\u001b[1;34m(self, key, method, tolerance)\u001b[0m\n\u001b[0;32m   3801\u001b[0m \u001b[38;5;28;01mtry\u001b[39;00m:\n\u001b[1;32m-> 3802\u001b[0m     \u001b[38;5;28;01mreturn\u001b[39;00m \u001b[38;5;28mself\u001b[39m\u001b[38;5;241m.\u001b[39m_engine\u001b[38;5;241m.\u001b[39mget_loc(casted_key)\n\u001b[0;32m   3803\u001b[0m \u001b[38;5;28;01mexcept\u001b[39;00m \u001b[38;5;167;01mKeyError\u001b[39;00m \u001b[38;5;28;01mas\u001b[39;00m err:\n",
      "File \u001b[1;32mC:\\ProgramData\\anaconda3\\Lib\\site-packages\\pandas\\_libs\\index.pyx:138\u001b[0m, in \u001b[0;36mpandas._libs.index.IndexEngine.get_loc\u001b[1;34m()\u001b[0m\n",
      "File \u001b[1;32mC:\\ProgramData\\anaconda3\\Lib\\site-packages\\pandas\\_libs\\index.pyx:165\u001b[0m, in \u001b[0;36mpandas._libs.index.IndexEngine.get_loc\u001b[1;34m()\u001b[0m\n",
      "File \u001b[1;32mpandas\\_libs\\hashtable_class_helper.pxi:5745\u001b[0m, in \u001b[0;36mpandas._libs.hashtable.PyObjectHashTable.get_item\u001b[1;34m()\u001b[0m\n",
      "File \u001b[1;32mpandas\\_libs\\hashtable_class_helper.pxi:5753\u001b[0m, in \u001b[0;36mpandas._libs.hashtable.PyObjectHashTable.get_item\u001b[1;34m()\u001b[0m\n",
      "\u001b[1;31mKeyError\u001b[0m: 'loja'",
      "\nThe above exception was the direct cause of the following exception:\n",
      "\u001b[1;31mKeyError\u001b[0m                                  Traceback (most recent call last)",
      "Cell \u001b[1;32mIn[44], line 7\u001b[0m\n\u001b[0;32m      5\u001b[0m df\u001b[38;5;241m.\u001b[39misnull()\u001b[38;5;241m.\u001b[39msum()\n\u001b[0;32m      6\u001b[0m df\u001b[38;5;241m.\u001b[39mnunique()\n\u001b[1;32m----> 7\u001b[0m df[\u001b[38;5;124m'\u001b[39m\u001b[38;5;124mloja\u001b[39m\u001b[38;5;124m'\u001b[39m]\u001b[38;5;241m.\u001b[39munique()\n\u001b[0;32m      8\u001b[0m df[\u001b[38;5;124m'\u001b[39m\u001b[38;5;124mitens_comercializados\u001b[39m\u001b[38;5;124m'\u001b[39m]\u001b[38;5;241m.\u001b[39munique()\n\u001b[0;32m      9\u001b[0m df[\u001b[38;5;124m'\u001b[39m\u001b[38;5;124mquantidade_clientes\u001b[39m\u001b[38;5;124m'\u001b[39m]\u001b[38;5;241m.\u001b[39mvalue_counts()\n",
      "File \u001b[1;32mC:\\ProgramData\\anaconda3\\Lib\\site-packages\\pandas\\core\\frame.py:3807\u001b[0m, in \u001b[0;36mDataFrame.__getitem__\u001b[1;34m(self, key)\u001b[0m\n\u001b[0;32m   3805\u001b[0m \u001b[38;5;28;01mif\u001b[39;00m \u001b[38;5;28mself\u001b[39m\u001b[38;5;241m.\u001b[39mcolumns\u001b[38;5;241m.\u001b[39mnlevels \u001b[38;5;241m>\u001b[39m \u001b[38;5;241m1\u001b[39m:\n\u001b[0;32m   3806\u001b[0m     \u001b[38;5;28;01mreturn\u001b[39;00m \u001b[38;5;28mself\u001b[39m\u001b[38;5;241m.\u001b[39m_getitem_multilevel(key)\n\u001b[1;32m-> 3807\u001b[0m indexer \u001b[38;5;241m=\u001b[39m \u001b[38;5;28mself\u001b[39m\u001b[38;5;241m.\u001b[39mcolumns\u001b[38;5;241m.\u001b[39mget_loc(key)\n\u001b[0;32m   3808\u001b[0m \u001b[38;5;28;01mif\u001b[39;00m is_integer(indexer):\n\u001b[0;32m   3809\u001b[0m     indexer \u001b[38;5;241m=\u001b[39m [indexer]\n",
      "File \u001b[1;32mC:\\ProgramData\\anaconda3\\Lib\\site-packages\\pandas\\core\\indexes\\base.py:3804\u001b[0m, in \u001b[0;36mIndex.get_loc\u001b[1;34m(self, key, method, tolerance)\u001b[0m\n\u001b[0;32m   3802\u001b[0m     \u001b[38;5;28;01mreturn\u001b[39;00m \u001b[38;5;28mself\u001b[39m\u001b[38;5;241m.\u001b[39m_engine\u001b[38;5;241m.\u001b[39mget_loc(casted_key)\n\u001b[0;32m   3803\u001b[0m \u001b[38;5;28;01mexcept\u001b[39;00m \u001b[38;5;167;01mKeyError\u001b[39;00m \u001b[38;5;28;01mas\u001b[39;00m err:\n\u001b[1;32m-> 3804\u001b[0m     \u001b[38;5;28;01mraise\u001b[39;00m \u001b[38;5;167;01mKeyError\u001b[39;00m(key) \u001b[38;5;28;01mfrom\u001b[39;00m \u001b[38;5;21;01merr\u001b[39;00m\n\u001b[0;32m   3805\u001b[0m \u001b[38;5;28;01mexcept\u001b[39;00m \u001b[38;5;167;01mTypeError\u001b[39;00m:\n\u001b[0;32m   3806\u001b[0m     \u001b[38;5;66;03m# If we have a listlike key, _check_indexing_error will raise\u001b[39;00m\n\u001b[0;32m   3807\u001b[0m     \u001b[38;5;66;03m#  InvalidIndexError. Otherwise we fall through and re-raise\u001b[39;00m\n\u001b[0;32m   3808\u001b[0m     \u001b[38;5;66;03m#  the TypeError.\u001b[39;00m\n\u001b[0;32m   3809\u001b[0m     \u001b[38;5;28mself\u001b[39m\u001b[38;5;241m.\u001b[39m_check_indexing_error(key)\n",
      "\u001b[1;31mKeyError\u001b[0m: 'loja'"
     ]
    }
   ],
   "source": [
    "df.head()\n",
    "df.describe()\n",
    "df.info()\n",
    "df.duplicated().sum()\n",
    "df.isnull().sum()\n",
    "df.nunique()\n",
    "df['loja'].unique()\n",
    "df['itens_comercializados'].unique()\n",
    "df['quantidade_clientes'].value_counts()\n",
    "df['vendas'].agg(['min', 'max', 'mean', 'median', 'std'])\n",
    "df['quantidade_clientes'].agg(['min', 'max', 'mean', 'median', 'std'])\n"
   ]
  },
  {
   "cell_type": "code",
   "execution_count": 45,
   "id": "af7ec9f4-bd24-4350-9a78-030910b92a11",
   "metadata": {
    "tags": []
   },
   "outputs": [],
   "source": [
    "df['item_peso'].fillna(df['item_peso'].mean(), inplace=True)\n"
   ]
  },
  {
   "cell_type": "code",
   "execution_count": 46,
   "id": "6d5851a6-169e-42ba-ada9-577377cd4c05",
   "metadata": {
    "tags": []
   },
   "outputs": [
    {
     "ename": "KeyError",
     "evalue": "\"['item_quantidade_venda'] not found in axis\"",
     "output_type": "error",
     "traceback": [
      "\u001b[1;31m---------------------------------------------------------------------------\u001b[0m",
      "\u001b[1;31mKeyError\u001b[0m                                  Traceback (most recent call last)",
      "Cell \u001b[1;32mIn[46], line 1\u001b[0m\n\u001b[1;32m----> 1\u001b[0m df\u001b[38;5;241m.\u001b[39mdrop(columns\u001b[38;5;241m=\u001b[39m[\u001b[38;5;124m'\u001b[39m\u001b[38;5;124mitem_quantidade_venda\u001b[39m\u001b[38;5;124m'\u001b[39m], inplace\u001b[38;5;241m=\u001b[39m\u001b[38;5;28;01mTrue\u001b[39;00m)\n\u001b[0;32m      2\u001b[0m df[\u001b[38;5;124m'\u001b[39m\u001b[38;5;124mitem_peso\u001b[39m\u001b[38;5;124m'\u001b[39m]\u001b[38;5;241m.\u001b[39mfillna(df[\u001b[38;5;124m'\u001b[39m\u001b[38;5;124mitem_peso\u001b[39m\u001b[38;5;124m'\u001b[39m]\u001b[38;5;241m.\u001b[39mmedian(), inplace\u001b[38;5;241m=\u001b[39m\u001b[38;5;28;01mTrue\u001b[39;00m)\n\u001b[0;32m      3\u001b[0m df[\u001b[38;5;124m'\u001b[39m\u001b[38;5;124mitem_peso\u001b[39m\u001b[38;5;124m'\u001b[39m]\u001b[38;5;241m.\u001b[39mfillna(df[\u001b[38;5;124m'\u001b[39m\u001b[38;5;124mitem_peso\u001b[39m\u001b[38;5;124m'\u001b[39m]\u001b[38;5;241m.\u001b[39mmean(), inplace\u001b[38;5;241m=\u001b[39m\u001b[38;5;28;01mTrue\u001b[39;00m)\n",
      "File \u001b[1;32mC:\\ProgramData\\anaconda3\\Lib\\site-packages\\pandas\\util\\_decorators.py:331\u001b[0m, in \u001b[0;36mdeprecate_nonkeyword_arguments.<locals>.decorate.<locals>.wrapper\u001b[1;34m(*args, **kwargs)\u001b[0m\n\u001b[0;32m    325\u001b[0m \u001b[38;5;28;01mif\u001b[39;00m \u001b[38;5;28mlen\u001b[39m(args) \u001b[38;5;241m>\u001b[39m num_allow_args:\n\u001b[0;32m    326\u001b[0m     warnings\u001b[38;5;241m.\u001b[39mwarn(\n\u001b[0;32m    327\u001b[0m         msg\u001b[38;5;241m.\u001b[39mformat(arguments\u001b[38;5;241m=\u001b[39m_format_argument_list(allow_args)),\n\u001b[0;32m    328\u001b[0m         \u001b[38;5;167;01mFutureWarning\u001b[39;00m,\n\u001b[0;32m    329\u001b[0m         stacklevel\u001b[38;5;241m=\u001b[39mfind_stack_level(),\n\u001b[0;32m    330\u001b[0m     )\n\u001b[1;32m--> 331\u001b[0m \u001b[38;5;28;01mreturn\u001b[39;00m func(\u001b[38;5;241m*\u001b[39margs, \u001b[38;5;241m*\u001b[39m\u001b[38;5;241m*\u001b[39mkwargs)\n",
      "File \u001b[1;32mC:\\ProgramData\\anaconda3\\Lib\\site-packages\\pandas\\core\\frame.py:5399\u001b[0m, in \u001b[0;36mDataFrame.drop\u001b[1;34m(self, labels, axis, index, columns, level, inplace, errors)\u001b[0m\n\u001b[0;32m   5251\u001b[0m \u001b[38;5;129m@deprecate_nonkeyword_arguments\u001b[39m(version\u001b[38;5;241m=\u001b[39m\u001b[38;5;28;01mNone\u001b[39;00m, allowed_args\u001b[38;5;241m=\u001b[39m[\u001b[38;5;124m\"\u001b[39m\u001b[38;5;124mself\u001b[39m\u001b[38;5;124m\"\u001b[39m, \u001b[38;5;124m\"\u001b[39m\u001b[38;5;124mlabels\u001b[39m\u001b[38;5;124m\"\u001b[39m])\n\u001b[0;32m   5252\u001b[0m \u001b[38;5;28;01mdef\u001b[39;00m \u001b[38;5;21mdrop\u001b[39m(  \u001b[38;5;66;03m# type: ignore[override]\u001b[39;00m\n\u001b[0;32m   5253\u001b[0m     \u001b[38;5;28mself\u001b[39m,\n\u001b[1;32m   (...)\u001b[0m\n\u001b[0;32m   5260\u001b[0m     errors: IgnoreRaise \u001b[38;5;241m=\u001b[39m \u001b[38;5;124m\"\u001b[39m\u001b[38;5;124mraise\u001b[39m\u001b[38;5;124m\"\u001b[39m,\n\u001b[0;32m   5261\u001b[0m ) \u001b[38;5;241m-\u001b[39m\u001b[38;5;241m>\u001b[39m DataFrame \u001b[38;5;241m|\u001b[39m \u001b[38;5;28;01mNone\u001b[39;00m:\n\u001b[0;32m   5262\u001b[0m \u001b[38;5;250m    \u001b[39m\u001b[38;5;124;03m\"\"\"\u001b[39;00m\n\u001b[0;32m   5263\u001b[0m \u001b[38;5;124;03m    Drop specified labels from rows or columns.\u001b[39;00m\n\u001b[0;32m   5264\u001b[0m \n\u001b[1;32m   (...)\u001b[0m\n\u001b[0;32m   5397\u001b[0m \u001b[38;5;124;03m            weight  1.0     0.8\u001b[39;00m\n\u001b[0;32m   5398\u001b[0m \u001b[38;5;124;03m    \"\"\"\u001b[39;00m\n\u001b[1;32m-> 5399\u001b[0m     \u001b[38;5;28;01mreturn\u001b[39;00m \u001b[38;5;28msuper\u001b[39m()\u001b[38;5;241m.\u001b[39mdrop(\n\u001b[0;32m   5400\u001b[0m         labels\u001b[38;5;241m=\u001b[39mlabels,\n\u001b[0;32m   5401\u001b[0m         axis\u001b[38;5;241m=\u001b[39maxis,\n\u001b[0;32m   5402\u001b[0m         index\u001b[38;5;241m=\u001b[39mindex,\n\u001b[0;32m   5403\u001b[0m         columns\u001b[38;5;241m=\u001b[39mcolumns,\n\u001b[0;32m   5404\u001b[0m         level\u001b[38;5;241m=\u001b[39mlevel,\n\u001b[0;32m   5405\u001b[0m         inplace\u001b[38;5;241m=\u001b[39minplace,\n\u001b[0;32m   5406\u001b[0m         errors\u001b[38;5;241m=\u001b[39merrors,\n\u001b[0;32m   5407\u001b[0m     )\n",
      "File \u001b[1;32mC:\\ProgramData\\anaconda3\\Lib\\site-packages\\pandas\\util\\_decorators.py:331\u001b[0m, in \u001b[0;36mdeprecate_nonkeyword_arguments.<locals>.decorate.<locals>.wrapper\u001b[1;34m(*args, **kwargs)\u001b[0m\n\u001b[0;32m    325\u001b[0m \u001b[38;5;28;01mif\u001b[39;00m \u001b[38;5;28mlen\u001b[39m(args) \u001b[38;5;241m>\u001b[39m num_allow_args:\n\u001b[0;32m    326\u001b[0m     warnings\u001b[38;5;241m.\u001b[39mwarn(\n\u001b[0;32m    327\u001b[0m         msg\u001b[38;5;241m.\u001b[39mformat(arguments\u001b[38;5;241m=\u001b[39m_format_argument_list(allow_args)),\n\u001b[0;32m    328\u001b[0m         \u001b[38;5;167;01mFutureWarning\u001b[39;00m,\n\u001b[0;32m    329\u001b[0m         stacklevel\u001b[38;5;241m=\u001b[39mfind_stack_level(),\n\u001b[0;32m    330\u001b[0m     )\n\u001b[1;32m--> 331\u001b[0m \u001b[38;5;28;01mreturn\u001b[39;00m func(\u001b[38;5;241m*\u001b[39margs, \u001b[38;5;241m*\u001b[39m\u001b[38;5;241m*\u001b[39mkwargs)\n",
      "File \u001b[1;32mC:\\ProgramData\\anaconda3\\Lib\\site-packages\\pandas\\core\\generic.py:4505\u001b[0m, in \u001b[0;36mNDFrame.drop\u001b[1;34m(self, labels, axis, index, columns, level, inplace, errors)\u001b[0m\n\u001b[0;32m   4503\u001b[0m \u001b[38;5;28;01mfor\u001b[39;00m axis, labels \u001b[38;5;129;01min\u001b[39;00m axes\u001b[38;5;241m.\u001b[39mitems():\n\u001b[0;32m   4504\u001b[0m     \u001b[38;5;28;01mif\u001b[39;00m labels \u001b[38;5;129;01mis\u001b[39;00m \u001b[38;5;129;01mnot\u001b[39;00m \u001b[38;5;28;01mNone\u001b[39;00m:\n\u001b[1;32m-> 4505\u001b[0m         obj \u001b[38;5;241m=\u001b[39m obj\u001b[38;5;241m.\u001b[39m_drop_axis(labels, axis, level\u001b[38;5;241m=\u001b[39mlevel, errors\u001b[38;5;241m=\u001b[39merrors)\n\u001b[0;32m   4507\u001b[0m \u001b[38;5;28;01mif\u001b[39;00m inplace:\n\u001b[0;32m   4508\u001b[0m     \u001b[38;5;28mself\u001b[39m\u001b[38;5;241m.\u001b[39m_update_inplace(obj)\n",
      "File \u001b[1;32mC:\\ProgramData\\anaconda3\\Lib\\site-packages\\pandas\\core\\generic.py:4546\u001b[0m, in \u001b[0;36mNDFrame._drop_axis\u001b[1;34m(self, labels, axis, level, errors, only_slice)\u001b[0m\n\u001b[0;32m   4544\u001b[0m         new_axis \u001b[38;5;241m=\u001b[39m axis\u001b[38;5;241m.\u001b[39mdrop(labels, level\u001b[38;5;241m=\u001b[39mlevel, errors\u001b[38;5;241m=\u001b[39merrors)\n\u001b[0;32m   4545\u001b[0m     \u001b[38;5;28;01melse\u001b[39;00m:\n\u001b[1;32m-> 4546\u001b[0m         new_axis \u001b[38;5;241m=\u001b[39m axis\u001b[38;5;241m.\u001b[39mdrop(labels, errors\u001b[38;5;241m=\u001b[39merrors)\n\u001b[0;32m   4547\u001b[0m     indexer \u001b[38;5;241m=\u001b[39m axis\u001b[38;5;241m.\u001b[39mget_indexer(new_axis)\n\u001b[0;32m   4549\u001b[0m \u001b[38;5;66;03m# Case for non-unique axis\u001b[39;00m\n\u001b[0;32m   4550\u001b[0m \u001b[38;5;28;01melse\u001b[39;00m:\n",
      "File \u001b[1;32mC:\\ProgramData\\anaconda3\\Lib\\site-packages\\pandas\\core\\indexes\\base.py:6934\u001b[0m, in \u001b[0;36mIndex.drop\u001b[1;34m(self, labels, errors)\u001b[0m\n\u001b[0;32m   6932\u001b[0m \u001b[38;5;28;01mif\u001b[39;00m mask\u001b[38;5;241m.\u001b[39many():\n\u001b[0;32m   6933\u001b[0m     \u001b[38;5;28;01mif\u001b[39;00m errors \u001b[38;5;241m!=\u001b[39m \u001b[38;5;124m\"\u001b[39m\u001b[38;5;124mignore\u001b[39m\u001b[38;5;124m\"\u001b[39m:\n\u001b[1;32m-> 6934\u001b[0m         \u001b[38;5;28;01mraise\u001b[39;00m \u001b[38;5;167;01mKeyError\u001b[39;00m(\u001b[38;5;124mf\u001b[39m\u001b[38;5;124m\"\u001b[39m\u001b[38;5;132;01m{\u001b[39;00m\u001b[38;5;28mlist\u001b[39m(labels[mask])\u001b[38;5;132;01m}\u001b[39;00m\u001b[38;5;124m not found in axis\u001b[39m\u001b[38;5;124m\"\u001b[39m)\n\u001b[0;32m   6935\u001b[0m     indexer \u001b[38;5;241m=\u001b[39m indexer[\u001b[38;5;241m~\u001b[39mmask]\n\u001b[0;32m   6936\u001b[0m \u001b[38;5;28;01mreturn\u001b[39;00m \u001b[38;5;28mself\u001b[39m\u001b[38;5;241m.\u001b[39mdelete(indexer)\n",
      "\u001b[1;31mKeyError\u001b[0m: \"['item_quantidade_venda'] not found in axis\""
     ]
    }
   ],
   "source": [
    "df.drop(columns=['item_quantidade_venda'], inplace=True)\n",
    "df['item_peso'].fillna(df['item_peso'].median(), inplace=True)\n",
    "df['item_peso'].fillna(df['item_peso'].mean(), inplace=True)\n",
    "df['loja_tamanho'].fillna('Desconhecido', inplace=True)\n",
    "df['loja_tamanho'].fillna('Não registrado', inplace=True)\n",
    "df.info()\n"
   ]
  },
  {
   "cell_type": "code",
   "execution_count": 47,
   "id": "a5a7c0ec-a94b-4e09-a955-d297c39fbc1f",
   "metadata": {
    "tags": []
   },
   "outputs": [
    {
     "ename": "NameError",
     "evalue": "name 'vendas_brasil' is not defined",
     "output_type": "error",
     "traceback": [
      "\u001b[1;31m---------------------------------------------------------------------------\u001b[0m",
      "\u001b[1;31mNameError\u001b[0m                                 Traceback (most recent call last)",
      "Cell \u001b[1;32mIn[47], line 1\u001b[0m\n\u001b[1;32m----> 1\u001b[0m vendas_brasil[\u001b[38;5;124m'\u001b[39m\u001b[38;5;124mestado\u001b[39m\u001b[38;5;124m'\u001b[39m]\u001b[38;5;241m.\u001b[39mfillna(vendas_brasil[\u001b[38;5;124m'\u001b[39m\u001b[38;5;124mestado\u001b[39m\u001b[38;5;124m'\u001b[39m]\u001b[38;5;241m.\u001b[39mmode())\n",
      "\u001b[1;31mNameError\u001b[0m: name 'vendas_brasil' is not defined"
     ]
    }
   ],
   "source": [
    "vendas_brasil['estado'].fillna(vendas_brasil['estado'].mode())\n"
   ]
  },
  {
   "cell_type": "code",
   "execution_count": 48,
   "id": "2bf6f061-3fd3-4318-b7ee-4eb77030ea48",
   "metadata": {
    "tags": []
   },
   "outputs": [
    {
     "data": {
      "text/plain": [
       "0"
      ]
     },
     "execution_count": 48,
     "metadata": {},
     "output_type": "execute_result"
    }
   ],
   "source": [
    "# Remova as linhas duplicadas do DataFrame\n",
    "df = df.drop_duplicates()\n",
    "\n",
    "# Verifique novamente se existem valores duplicados após a remoção\n",
    "df.duplicated().sum()\n"
   ]
  },
  {
   "cell_type": "code",
   "execution_count": 49,
   "id": "683571dd-105b-480c-b30c-8f3393146a02",
   "metadata": {
    "tags": []
   },
   "outputs": [
    {
     "ename": "KeyError",
     "evalue": "\"['vendas_por_dia'] not found in axis\"",
     "output_type": "error",
     "traceback": [
      "\u001b[1;31m---------------------------------------------------------------------------\u001b[0m",
      "\u001b[1;31mKeyError\u001b[0m                                  Traceback (most recent call last)",
      "Cell \u001b[1;32mIn[49], line 1\u001b[0m\n\u001b[1;32m----> 1\u001b[0m df \u001b[38;5;241m=\u001b[39m df\u001b[38;5;241m.\u001b[39mdrop(\u001b[38;5;124m'\u001b[39m\u001b[38;5;124mvendas_por_dia\u001b[39m\u001b[38;5;124m'\u001b[39m, axis\u001b[38;5;241m=\u001b[39m\u001b[38;5;241m1\u001b[39m)\n",
      "File \u001b[1;32mC:\\ProgramData\\anaconda3\\Lib\\site-packages\\pandas\\util\\_decorators.py:331\u001b[0m, in \u001b[0;36mdeprecate_nonkeyword_arguments.<locals>.decorate.<locals>.wrapper\u001b[1;34m(*args, **kwargs)\u001b[0m\n\u001b[0;32m    325\u001b[0m \u001b[38;5;28;01mif\u001b[39;00m \u001b[38;5;28mlen\u001b[39m(args) \u001b[38;5;241m>\u001b[39m num_allow_args:\n\u001b[0;32m    326\u001b[0m     warnings\u001b[38;5;241m.\u001b[39mwarn(\n\u001b[0;32m    327\u001b[0m         msg\u001b[38;5;241m.\u001b[39mformat(arguments\u001b[38;5;241m=\u001b[39m_format_argument_list(allow_args)),\n\u001b[0;32m    328\u001b[0m         \u001b[38;5;167;01mFutureWarning\u001b[39;00m,\n\u001b[0;32m    329\u001b[0m         stacklevel\u001b[38;5;241m=\u001b[39mfind_stack_level(),\n\u001b[0;32m    330\u001b[0m     )\n\u001b[1;32m--> 331\u001b[0m \u001b[38;5;28;01mreturn\u001b[39;00m func(\u001b[38;5;241m*\u001b[39margs, \u001b[38;5;241m*\u001b[39m\u001b[38;5;241m*\u001b[39mkwargs)\n",
      "File \u001b[1;32mC:\\ProgramData\\anaconda3\\Lib\\site-packages\\pandas\\core\\frame.py:5399\u001b[0m, in \u001b[0;36mDataFrame.drop\u001b[1;34m(self, labels, axis, index, columns, level, inplace, errors)\u001b[0m\n\u001b[0;32m   5251\u001b[0m \u001b[38;5;129m@deprecate_nonkeyword_arguments\u001b[39m(version\u001b[38;5;241m=\u001b[39m\u001b[38;5;28;01mNone\u001b[39;00m, allowed_args\u001b[38;5;241m=\u001b[39m[\u001b[38;5;124m\"\u001b[39m\u001b[38;5;124mself\u001b[39m\u001b[38;5;124m\"\u001b[39m, \u001b[38;5;124m\"\u001b[39m\u001b[38;5;124mlabels\u001b[39m\u001b[38;5;124m\"\u001b[39m])\n\u001b[0;32m   5252\u001b[0m \u001b[38;5;28;01mdef\u001b[39;00m \u001b[38;5;21mdrop\u001b[39m(  \u001b[38;5;66;03m# type: ignore[override]\u001b[39;00m\n\u001b[0;32m   5253\u001b[0m     \u001b[38;5;28mself\u001b[39m,\n\u001b[1;32m   (...)\u001b[0m\n\u001b[0;32m   5260\u001b[0m     errors: IgnoreRaise \u001b[38;5;241m=\u001b[39m \u001b[38;5;124m\"\u001b[39m\u001b[38;5;124mraise\u001b[39m\u001b[38;5;124m\"\u001b[39m,\n\u001b[0;32m   5261\u001b[0m ) \u001b[38;5;241m-\u001b[39m\u001b[38;5;241m>\u001b[39m DataFrame \u001b[38;5;241m|\u001b[39m \u001b[38;5;28;01mNone\u001b[39;00m:\n\u001b[0;32m   5262\u001b[0m \u001b[38;5;250m    \u001b[39m\u001b[38;5;124;03m\"\"\"\u001b[39;00m\n\u001b[0;32m   5263\u001b[0m \u001b[38;5;124;03m    Drop specified labels from rows or columns.\u001b[39;00m\n\u001b[0;32m   5264\u001b[0m \n\u001b[1;32m   (...)\u001b[0m\n\u001b[0;32m   5397\u001b[0m \u001b[38;5;124;03m            weight  1.0     0.8\u001b[39;00m\n\u001b[0;32m   5398\u001b[0m \u001b[38;5;124;03m    \"\"\"\u001b[39;00m\n\u001b[1;32m-> 5399\u001b[0m     \u001b[38;5;28;01mreturn\u001b[39;00m \u001b[38;5;28msuper\u001b[39m()\u001b[38;5;241m.\u001b[39mdrop(\n\u001b[0;32m   5400\u001b[0m         labels\u001b[38;5;241m=\u001b[39mlabels,\n\u001b[0;32m   5401\u001b[0m         axis\u001b[38;5;241m=\u001b[39maxis,\n\u001b[0;32m   5402\u001b[0m         index\u001b[38;5;241m=\u001b[39mindex,\n\u001b[0;32m   5403\u001b[0m         columns\u001b[38;5;241m=\u001b[39mcolumns,\n\u001b[0;32m   5404\u001b[0m         level\u001b[38;5;241m=\u001b[39mlevel,\n\u001b[0;32m   5405\u001b[0m         inplace\u001b[38;5;241m=\u001b[39minplace,\n\u001b[0;32m   5406\u001b[0m         errors\u001b[38;5;241m=\u001b[39merrors,\n\u001b[0;32m   5407\u001b[0m     )\n",
      "File \u001b[1;32mC:\\ProgramData\\anaconda3\\Lib\\site-packages\\pandas\\util\\_decorators.py:331\u001b[0m, in \u001b[0;36mdeprecate_nonkeyword_arguments.<locals>.decorate.<locals>.wrapper\u001b[1;34m(*args, **kwargs)\u001b[0m\n\u001b[0;32m    325\u001b[0m \u001b[38;5;28;01mif\u001b[39;00m \u001b[38;5;28mlen\u001b[39m(args) \u001b[38;5;241m>\u001b[39m num_allow_args:\n\u001b[0;32m    326\u001b[0m     warnings\u001b[38;5;241m.\u001b[39mwarn(\n\u001b[0;32m    327\u001b[0m         msg\u001b[38;5;241m.\u001b[39mformat(arguments\u001b[38;5;241m=\u001b[39m_format_argument_list(allow_args)),\n\u001b[0;32m    328\u001b[0m         \u001b[38;5;167;01mFutureWarning\u001b[39;00m,\n\u001b[0;32m    329\u001b[0m         stacklevel\u001b[38;5;241m=\u001b[39mfind_stack_level(),\n\u001b[0;32m    330\u001b[0m     )\n\u001b[1;32m--> 331\u001b[0m \u001b[38;5;28;01mreturn\u001b[39;00m func(\u001b[38;5;241m*\u001b[39margs, \u001b[38;5;241m*\u001b[39m\u001b[38;5;241m*\u001b[39mkwargs)\n",
      "File \u001b[1;32mC:\\ProgramData\\anaconda3\\Lib\\site-packages\\pandas\\core\\generic.py:4505\u001b[0m, in \u001b[0;36mNDFrame.drop\u001b[1;34m(self, labels, axis, index, columns, level, inplace, errors)\u001b[0m\n\u001b[0;32m   4503\u001b[0m \u001b[38;5;28;01mfor\u001b[39;00m axis, labels \u001b[38;5;129;01min\u001b[39;00m axes\u001b[38;5;241m.\u001b[39mitems():\n\u001b[0;32m   4504\u001b[0m     \u001b[38;5;28;01mif\u001b[39;00m labels \u001b[38;5;129;01mis\u001b[39;00m \u001b[38;5;129;01mnot\u001b[39;00m \u001b[38;5;28;01mNone\u001b[39;00m:\n\u001b[1;32m-> 4505\u001b[0m         obj \u001b[38;5;241m=\u001b[39m obj\u001b[38;5;241m.\u001b[39m_drop_axis(labels, axis, level\u001b[38;5;241m=\u001b[39mlevel, errors\u001b[38;5;241m=\u001b[39merrors)\n\u001b[0;32m   4507\u001b[0m \u001b[38;5;28;01mif\u001b[39;00m inplace:\n\u001b[0;32m   4508\u001b[0m     \u001b[38;5;28mself\u001b[39m\u001b[38;5;241m.\u001b[39m_update_inplace(obj)\n",
      "File \u001b[1;32mC:\\ProgramData\\anaconda3\\Lib\\site-packages\\pandas\\core\\generic.py:4546\u001b[0m, in \u001b[0;36mNDFrame._drop_axis\u001b[1;34m(self, labels, axis, level, errors, only_slice)\u001b[0m\n\u001b[0;32m   4544\u001b[0m         new_axis \u001b[38;5;241m=\u001b[39m axis\u001b[38;5;241m.\u001b[39mdrop(labels, level\u001b[38;5;241m=\u001b[39mlevel, errors\u001b[38;5;241m=\u001b[39merrors)\n\u001b[0;32m   4545\u001b[0m     \u001b[38;5;28;01melse\u001b[39;00m:\n\u001b[1;32m-> 4546\u001b[0m         new_axis \u001b[38;5;241m=\u001b[39m axis\u001b[38;5;241m.\u001b[39mdrop(labels, errors\u001b[38;5;241m=\u001b[39merrors)\n\u001b[0;32m   4547\u001b[0m     indexer \u001b[38;5;241m=\u001b[39m axis\u001b[38;5;241m.\u001b[39mget_indexer(new_axis)\n\u001b[0;32m   4549\u001b[0m \u001b[38;5;66;03m# Case for non-unique axis\u001b[39;00m\n\u001b[0;32m   4550\u001b[0m \u001b[38;5;28;01melse\u001b[39;00m:\n",
      "File \u001b[1;32mC:\\ProgramData\\anaconda3\\Lib\\site-packages\\pandas\\core\\indexes\\base.py:6934\u001b[0m, in \u001b[0;36mIndex.drop\u001b[1;34m(self, labels, errors)\u001b[0m\n\u001b[0;32m   6932\u001b[0m \u001b[38;5;28;01mif\u001b[39;00m mask\u001b[38;5;241m.\u001b[39many():\n\u001b[0;32m   6933\u001b[0m     \u001b[38;5;28;01mif\u001b[39;00m errors \u001b[38;5;241m!=\u001b[39m \u001b[38;5;124m\"\u001b[39m\u001b[38;5;124mignore\u001b[39m\u001b[38;5;124m\"\u001b[39m:\n\u001b[1;32m-> 6934\u001b[0m         \u001b[38;5;28;01mraise\u001b[39;00m \u001b[38;5;167;01mKeyError\u001b[39;00m(\u001b[38;5;124mf\u001b[39m\u001b[38;5;124m\"\u001b[39m\u001b[38;5;132;01m{\u001b[39;00m\u001b[38;5;28mlist\u001b[39m(labels[mask])\u001b[38;5;132;01m}\u001b[39;00m\u001b[38;5;124m not found in axis\u001b[39m\u001b[38;5;124m\"\u001b[39m)\n\u001b[0;32m   6935\u001b[0m     indexer \u001b[38;5;241m=\u001b[39m indexer[\u001b[38;5;241m~\u001b[39mmask]\n\u001b[0;32m   6936\u001b[0m \u001b[38;5;28;01mreturn\u001b[39;00m \u001b[38;5;28mself\u001b[39m\u001b[38;5;241m.\u001b[39mdelete(indexer)\n",
      "\u001b[1;31mKeyError\u001b[0m: \"['vendas_por_dia'] not found in axis\""
     ]
    }
   ],
   "source": [
    "   df = df.drop('vendas_por_dia', axis=1)\n"
   ]
  },
  {
   "cell_type": "code",
   "execution_count": 50,
   "id": "265debf5-4df0-4a31-8c07-4c764f4f1dda",
   "metadata": {
    "tags": []
   },
   "outputs": [
    {
     "ename": "KeyError",
     "evalue": "'tamanho_loja'",
     "output_type": "error",
     "traceback": [
      "\u001b[1;31m---------------------------------------------------------------------------\u001b[0m",
      "\u001b[1;31mKeyError\u001b[0m                                  Traceback (most recent call last)",
      "File \u001b[1;32mC:\\ProgramData\\anaconda3\\Lib\\site-packages\\pandas\\core\\indexes\\base.py:3802\u001b[0m, in \u001b[0;36mIndex.get_loc\u001b[1;34m(self, key, method, tolerance)\u001b[0m\n\u001b[0;32m   3801\u001b[0m \u001b[38;5;28;01mtry\u001b[39;00m:\n\u001b[1;32m-> 3802\u001b[0m     \u001b[38;5;28;01mreturn\u001b[39;00m \u001b[38;5;28mself\u001b[39m\u001b[38;5;241m.\u001b[39m_engine\u001b[38;5;241m.\u001b[39mget_loc(casted_key)\n\u001b[0;32m   3803\u001b[0m \u001b[38;5;28;01mexcept\u001b[39;00m \u001b[38;5;167;01mKeyError\u001b[39;00m \u001b[38;5;28;01mas\u001b[39;00m err:\n",
      "File \u001b[1;32mC:\\ProgramData\\anaconda3\\Lib\\site-packages\\pandas\\_libs\\index.pyx:138\u001b[0m, in \u001b[0;36mpandas._libs.index.IndexEngine.get_loc\u001b[1;34m()\u001b[0m\n",
      "File \u001b[1;32mC:\\ProgramData\\anaconda3\\Lib\\site-packages\\pandas\\_libs\\index.pyx:165\u001b[0m, in \u001b[0;36mpandas._libs.index.IndexEngine.get_loc\u001b[1;34m()\u001b[0m\n",
      "File \u001b[1;32mpandas\\_libs\\hashtable_class_helper.pxi:5745\u001b[0m, in \u001b[0;36mpandas._libs.hashtable.PyObjectHashTable.get_item\u001b[1;34m()\u001b[0m\n",
      "File \u001b[1;32mpandas\\_libs\\hashtable_class_helper.pxi:5753\u001b[0m, in \u001b[0;36mpandas._libs.hashtable.PyObjectHashTable.get_item\u001b[1;34m()\u001b[0m\n",
      "\u001b[1;31mKeyError\u001b[0m: 'tamanho_loja'",
      "\nThe above exception was the direct cause of the following exception:\n",
      "\u001b[1;31mKeyError\u001b[0m                                  Traceback (most recent call last)",
      "Cell \u001b[1;32mIn[50], line 1\u001b[0m\n\u001b[1;32m----> 1\u001b[0m df[\u001b[38;5;124m'\u001b[39m\u001b[38;5;124mtamanho_loja\u001b[39m\u001b[38;5;124m'\u001b[39m]\u001b[38;5;241m.\u001b[39mfillna(\u001b[38;5;124m'\u001b[39m\u001b[38;5;124mDesconhecido\u001b[39m\u001b[38;5;124m'\u001b[39m, inplace\u001b[38;5;241m=\u001b[39m\u001b[38;5;28;01mTrue\u001b[39;00m)\n",
      "File \u001b[1;32mC:\\ProgramData\\anaconda3\\Lib\\site-packages\\pandas\\core\\frame.py:3807\u001b[0m, in \u001b[0;36mDataFrame.__getitem__\u001b[1;34m(self, key)\u001b[0m\n\u001b[0;32m   3805\u001b[0m \u001b[38;5;28;01mif\u001b[39;00m \u001b[38;5;28mself\u001b[39m\u001b[38;5;241m.\u001b[39mcolumns\u001b[38;5;241m.\u001b[39mnlevels \u001b[38;5;241m>\u001b[39m \u001b[38;5;241m1\u001b[39m:\n\u001b[0;32m   3806\u001b[0m     \u001b[38;5;28;01mreturn\u001b[39;00m \u001b[38;5;28mself\u001b[39m\u001b[38;5;241m.\u001b[39m_getitem_multilevel(key)\n\u001b[1;32m-> 3807\u001b[0m indexer \u001b[38;5;241m=\u001b[39m \u001b[38;5;28mself\u001b[39m\u001b[38;5;241m.\u001b[39mcolumns\u001b[38;5;241m.\u001b[39mget_loc(key)\n\u001b[0;32m   3808\u001b[0m \u001b[38;5;28;01mif\u001b[39;00m is_integer(indexer):\n\u001b[0;32m   3809\u001b[0m     indexer \u001b[38;5;241m=\u001b[39m [indexer]\n",
      "File \u001b[1;32mC:\\ProgramData\\anaconda3\\Lib\\site-packages\\pandas\\core\\indexes\\base.py:3804\u001b[0m, in \u001b[0;36mIndex.get_loc\u001b[1;34m(self, key, method, tolerance)\u001b[0m\n\u001b[0;32m   3802\u001b[0m     \u001b[38;5;28;01mreturn\u001b[39;00m \u001b[38;5;28mself\u001b[39m\u001b[38;5;241m.\u001b[39m_engine\u001b[38;5;241m.\u001b[39mget_loc(casted_key)\n\u001b[0;32m   3803\u001b[0m \u001b[38;5;28;01mexcept\u001b[39;00m \u001b[38;5;167;01mKeyError\u001b[39;00m \u001b[38;5;28;01mas\u001b[39;00m err:\n\u001b[1;32m-> 3804\u001b[0m     \u001b[38;5;28;01mraise\u001b[39;00m \u001b[38;5;167;01mKeyError\u001b[39;00m(key) \u001b[38;5;28;01mfrom\u001b[39;00m \u001b[38;5;21;01merr\u001b[39;00m\n\u001b[0;32m   3805\u001b[0m \u001b[38;5;28;01mexcept\u001b[39;00m \u001b[38;5;167;01mTypeError\u001b[39;00m:\n\u001b[0;32m   3806\u001b[0m     \u001b[38;5;66;03m# If we have a listlike key, _check_indexing_error will raise\u001b[39;00m\n\u001b[0;32m   3807\u001b[0m     \u001b[38;5;66;03m#  InvalidIndexError. Otherwise we fall through and re-raise\u001b[39;00m\n\u001b[0;32m   3808\u001b[0m     \u001b[38;5;66;03m#  the TypeError.\u001b[39;00m\n\u001b[0;32m   3809\u001b[0m     \u001b[38;5;28mself\u001b[39m\u001b[38;5;241m.\u001b[39m_check_indexing_error(key)\n",
      "\u001b[1;31mKeyError\u001b[0m: 'tamanho_loja'"
     ]
    }
   ],
   "source": [
    "   df['tamanho_loja'].fillna('Desconhecido', inplace=True)\n"
   ]
  },
  {
   "cell_type": "code",
   "execution_count": 51,
   "id": "1128be06-e8b3-4984-87f9-c9144c8059a6",
   "metadata": {
    "tags": []
   },
   "outputs": [],
   "source": [
    "import matplotlib.pyplot as plt\n",
    "import pandas as pd"
   ]
  },
  {
   "cell_type": "code",
   "execution_count": 52,
   "id": "4dcb9095-e120-430e-b44f-863dece40123",
   "metadata": {
    "tags": []
   },
   "outputs": [],
   "source": [
    "df_agrupado = df.groupby('item_tipo')['vendas_totais'].sum().reset_index()\n"
   ]
  },
  {
   "cell_type": "code",
   "execution_count": 53,
   "id": "f7b81531-e591-4d6e-a3aa-7a657cb83410",
   "metadata": {
    "tags": []
   },
   "outputs": [],
   "source": [
    "cor_fundo = \"#ebebeb\"\n",
    "cor_barras = \"#e23155\"\n",
    "cor_texto = \"#19325c\""
   ]
  },
  {
   "cell_type": "code",
   "execution_count": 54,
   "id": "aaf39fb6-447b-44ea-b8a1-8edabd231f9b",
   "metadata": {
    "tags": []
   },
   "outputs": [],
   "source": [
    "df_agrupado = df_agrupado.sort_values(by='vendas_totais', ascending=True)\n"
   ]
  },
  {
   "cell_type": "code",
   "execution_count": 55,
   "id": "c6dee58c-11fe-4bb0-b1c7-348f9eb1074d",
   "metadata": {
    "tags": []
   },
   "outputs": [
    {
     "data": {
      "image/png": "[encoded data removed]",
      "text/plain": [
       "<Figure size 1000x600 with 1 Axes>"
      ]
     },
     "metadata": {},
     "output_type": "display_data"
    }
   ],
   "source": [
    "fig, ax = plt.subplots(figsize=(10, 6))\n",
    "fig.set_facecolor(cor_fundo)\n",
    "ax.set_facecolor(cor_fundo)\n"
   ]
  },
  {
   "cell_type": "code",
   "execution_count": 56,
   "id": "923876bb-bcc1-4e60-9804-2f205d218cbf",
   "metadata": {
    "tags": []
   },
   "outputs": [],
   "source": [
    "barras = ax.barh(df_agrupado['item_tipo'], df_agrupado['vendas_totais'], color=cor_barras)"
   ]
  },
  {
   "cell_type": "code",
   "execution_count": 57,
   "id": "4914bc6e-e6b3-40f9-87a4-c99126e6b2cb",
   "metadata": {
    "tags": []
   },
   "outputs": [],
   "source": [
    "for bar in barras:\n",
    "    largura_barra = bar.get_width()\n",
    "    valor_vendas = largura_barra / 1000000  # Converter para milhões\n",
    "    ax.annotate(f'R$ {valor_vendas:.2f} M', xy=(largura_barra, bar.get_y() + bar.get_height() / 2),\n",
    "                xytext=(5, 0), textcoords='offset points', va='center', color=cor_texto)"
   ]
  },
  {
   "cell_type": "code",
   "execution_count": 58,
   "id": "05b3e73e-b3ff-4567-b890-b9604d98f765",
   "metadata": {
    "tags": []
   },
   "outputs": [],
   "source": [
    "ax.set_xlabel('Total de Vendas (R$)')\n",
    "ax.set_title('Total de Vendas por Categoria de Produto')\n",
    "ax.spines['top'].set_visible(False)\n",
    "ax.spines['right'].set_visible(False)\n",
    "ax.spines['bottom'].set_color(cor_texto)\n",
    "ax.spines['left'].set_color(cor_texto)\n",
    "ax.tick_params(axis='x', colors=cor_texto)\n",
    "ax.tick_params(axis='y', colors=cor_texto)\n",
    "ax.xaxis.label.set_color(cor_texto)\n",
    "ax.yaxis.label.set_color(cor_texto)\n",
    "ax.grid(False)"
   ]
  },
  {
   "cell_type": "code",
   "execution_count": 59,
   "id": "d212476d-3f7c-4a78-8785-9afd7946a37b",
   "metadata": {
    "tags": []
   },
   "outputs": [],
   "source": [
    "ax.invert_yaxis()"
   ]
  },
  {
   "cell_type": "code",
   "execution_count": 60,
   "id": "57e098fb-fe89-4ee8-a959-754665602ba8",
   "metadata": {
    "tags": []
   },
   "outputs": [
    {
     "data": {
      "text/plain": [
       "<Figure size 640x480 with 0 Axes>"
      ]
     },
     "metadata": {},
     "output_type": "display_data"
    }
   ],
   "source": [
    "plt.tight_layout()\n",
    "plt.show()"
   ]
  },
  {
   "cell_type": "code",
   "execution_count": 61,
   "id": "4ac018a1-39e4-40e6-8a5c-3087c4428dcc",
   "metadata": {
    "tags": []
   },
   "outputs": [
    {
     "data": {
      "image/png": "[encoded data removed]",
      "text/plain": [
       "<Figure size 1000x600 with 1 Axes>"
      ]
     },
     "metadata": {},
     "output_type": "display_data"
    }
   ],
   "source": [
    "import matplotlib.pyplot as plt\n",
    "import pandas as pd\n",
    "df_agrupado = df.groupby('item_tipo')['vendas_totais'].sum().reset_index()\n",
    "cor_fundo = \"#ebebeb\"\n",
    "cor_barras = \"#e23155\"\n",
    "cor_texto = \"#19325c\"\n",
    "df_agrupado = df_agrupado.sort_values(by='vendas_totais', ascending=True)\n",
    "fig, ax = plt.subplots(figsize=(10, 6))\n",
    "fig.set_facecolor(cor_fundo)\n",
    "ax.set_facecolor(cor_fundo)\n",
    "barras = ax.barh(df_agrupado['item_tipo'], df_agrupado['vendas_totais'], color=cor_barras)\n",
    "for bar in barras:\n",
    "    largura_barra = bar.get_width()\n",
    "    valor_vendas = largura_barra / 1000000  # Converter para milhões\n",
    "    ax.annotate(f'R$ {valor_vendas:.2f} M', xy=(largura_barra, bar.get_y() + bar.get_height() / 2),\n",
    "                xytext=(5, 0), textcoords='offset points', va='center', color=cor_texto)\n",
    "ax.set_xlabel('Total de Vendas (R$)')\n",
    "ax.set_title('Total de Vendas por Categoria de Produto')\n",
    "ax.spines['top'].set_visible(False)\n",
    "ax.spines['right'].set_visible(False)\n",
    "ax.spines['bottom'].set_color(cor_texto)\n",
    "ax.spines['left'].set_color(cor_texto)\n",
    "ax.tick_params(axis='x', colors=cor_texto)\n",
    "ax.tick_params(axis='y', colors=cor_texto)\n",
    "ax.xaxis.label.set_color(cor_texto)\n",
    "ax.yaxis.label.set_color(cor_texto)\n",
    "ax.grid(False)\n",
    "ax.invert_yaxis()\n",
    "plt.tight_layout()\n",
    "plt.show()\n"
   ]
  },
  {
   "cell_type": "code",
   "execution_count": 62,
   "id": "06ff2f84-455e-4fd5-ae85-650377a41e55",
   "metadata": {
    "tags": []
   },
   "outputs": [
    {
     "data": {
      "image/png": "[encoded data removed]",
      "text/plain": [
       "<Figure size 800x600 with 1 Axes>"
      ]
     },
     "metadata": {},
     "output_type": "display_data"
    }
   ],
   "source": [
    "import matplotlib.pyplot as plt\n",
    "import pandas as pd\n",
    "\n",
    "# Crie um DataFrame com os dados agrupados por categoria de quantidade de gordura\n",
    "df_agrupado = df.groupby('item_conteudo_gordura')['vendas_totais'].sum().reset_index()\n",
    "\n",
    "# Cores\n",
    "cor_fundo = \"#ebebeb\"\n",
    "cor_baixo_gordura = \"#e23155\"\n",
    "cor_regular = \"#acdcd3\"\n",
    "cor_texto = \"#19325c\"\n",
    "\n",
    "# Crie a figura e o eixo\n",
    "fig, ax = plt.subplots(figsize=(8, 6))\n",
    "fig.set_facecolor(cor_fundo)\n",
    "ax.set_facecolor(cor_fundo)\n",
    "\n",
    "# Plote as colunas\n",
    "barras = ax.bar(df_agrupado['item_conteudo_gordura'], df_agrupado['vendas_totais'],\n",
    "                color=[cor_baixo_gordura, cor_regular])\n",
    "\n",
    "# Adicione o total de vendas acima de cada coluna\n",
    "for bar in barras:\n",
    "    altura_barra = bar.get_height()\n",
    "    valor_vendas = altura_barra / 1000000  # Converter para milhões\n",
    "    ax.annotate(f'R$ {valor_vendas:.2f} M', xy=(bar.get_x() + bar.get_width() / 2, altura_barra),\n",
    "                xytext=(0, 3), textcoords='offset points', ha='center', color=cor_texto)\n",
    "\n",
    "# Configurações adicionais\n",
    "ax.set_ylabel('Total de Vendas (R$)')\n",
    "ax.set_title('Total de Vendas por Conteúdo de Gordura')\n",
    "ax.spines['top'].set_visible(False)\n",
    "ax.spines['right'].set_visible(False)\n",
    "ax.spines['bottom'].set_color(cor_texto)\n",
    "ax.spines['left'].set_color(cor_texto)\n",
    "ax.tick_params(axis='x', colors=cor_texto)\n",
    "ax.tick_params(axis='y', colors=cor_texto)\n",
    "ax.xaxis.label.set_color(cor_texto)\n",
    "ax.yaxis.label.set_color(cor_texto)\n",
    "ax.grid(False)\n",
    "\n",
    "# Exibir o gráfico\n",
    "plt.tight_layout()\n",
    "plt.show()\n"
   ]
  },
  {
   "cell_type": "code",
   "execution_count": null,
   "id": "1f51e407-f4c0-45df-b1c4-39f2e335af30",
   "metadata": {},
   "outputs": [],
   "source": []
  }
 ],
 "metadata": {
  "kernelspec": {
   "display_name": "Python 3 (ipykernel)",
   "language": "python",
   "name": "python3"
  },
  "language_info": {
   "codemirror_mode": {
    "name": "ipython",
    "version": 3
   },
   "file_extension": ".py",
   "mimetype": "text/x-python",
   "name": "python",
   "nbconvert_exporter": "python",
   "pygments_lexer": "ipython3",
   "version": "3.11.4"
  }
 },
 "nbformat": 4,
 "nbformat_minor": 5
}
